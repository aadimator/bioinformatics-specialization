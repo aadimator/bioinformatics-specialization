{
 "cells": [
  {
   "attachments": {},
   "cell_type": "markdown",
   "metadata": {},
   "source": [
    "# Week 3: Which DNA patterns server as molecular clock?"
   ]
  },
  {
   "attachments": {},
   "cell_type": "markdown",
   "metadata": {},
   "source": [
    "## 1.2 Code Challenge: Implement `MotifEnumeration`\n",
    "\n",
    "Input: Integers k and d, followed by a space-separated collection of strings Dna.\n",
    "Output: All (k, d)-motifs in Dna.\n",
    "\n",
    "```\n",
    "MotifEnumeration(Dna, k, d)\n",
    "    Patterns ← an empty set\n",
    "    for each k-mer Pattern in Dna\n",
    "        for each k-mer Pattern’ differing from Pattern by at most d mismatches\n",
    "            if Pattern' appears in each string from Dna with at most d mismatches\n",
    "                add Pattern' to Patterns\n",
    "    remove duplicates from Patterns\n",
    "    return Patterns\n",
    "\n",
    "```\n",
    "\n",
    "### Sample Input:\n",
    "\n",
    "```\n",
    "3 1\n",
    "ATTTGGC TGCCTTA CGGTATC GAAAATT\n",
    "```\n",
    "\n",
    "### Sample Output:\n",
    "\n",
    "```\n",
    "ATA ATT GTT TTT\n",
    "```"
   ]
  },
  {
   "cell_type": "code",
   "execution_count": 1,
   "metadata": {},
   "outputs": [],
   "source": [
    "def change_one(sequence, position):\n",
    "    bases = ['A', 'C', 'G', 'T']\n",
    "    seq = list(sequence)\n",
    "    i = position\n",
    "    variants = [''.join(seq[:i] + [b] + seq[i+1:]) for b in bases if b != seq[i]]\n",
    "    return variants\n",
    "\n",
    "def change_many(sequence, positions):\n",
    "    seqs = [sequence]\n",
    "    while positions:\n",
    "        p = positions.pop()\n",
    "        seqs.extend([v for s in seqs for v in change_one(s, p)])\n",
    "    return seqs\n",
    "\n",
    "\n",
    "from itertools import combinations\n",
    "\n",
    "def neighbors(pattern, threshold):\n",
    "    neighbors = set([pattern])\n",
    "    for i in range(1, threshold + 1):\n",
    "        for c in combinations(range(len(pattern)), i):\n",
    "            neighbors.update(change_many(pattern, list(c)))\n",
    "    return list(neighbors)"
   ]
  },
  {
   "cell_type": "code",
   "execution_count": 2,
   "metadata": {},
   "outputs": [],
   "source": [
    "def motif_enumeration(dna, k, d):\n",
    "    patterns = list()\n",
    "    for chunk in dna:\n",
    "        kmers = [chunk[i:i+k] for i in range(len(chunk) - k + 1)]\n",
    "        extended_kmers = set([kmer_prime for kmer in kmers for kmer_prime in neighbors(kmer, d)])\n",
    "        patterns.append(extended_kmers)\n",
    "    return list(set.intersection(*patterns))      "
   ]
  },
  {
   "cell_type": "code",
   "execution_count": 4,
   "metadata": {},
   "outputs": [
    {
     "data": {
      "text/plain": [
       "'GTCTG CTGGC GACTG GGCTG GCCTG GGTTG TGGCT CGCTG GGCTT'"
      ]
     },
     "execution_count": 4,
     "metadata": {},
     "output_type": "execute_result"
    }
   ],
   "source": [
    "k = 5\n",
    "d = 1\n",
    "\n",
    "dna = [\n",
    "    'CTGCGGGCTGCCATAGATATCTCGA', \n",
    "    'TATATTTCTGGTGAGGCGGGGGCTG', \n",
    "    'CCAATACGTCAGGCGTGAATGGCTG', \n",
    "    'CGTGTGGCTGTCCCACCTGGTTCGG', \n",
    "    'TTTCAGAAATCGCTTGACTGACCCA', \n",
    "    'AGCCTACCCCGGCTGTTAAGTACGG'\n",
    "]\n",
    "\n",
    "' '.join(motif_enumeration(dna=dna, k=k, d=d))"
   ]
  },
  {
   "attachments": {},
   "cell_type": "markdown",
   "metadata": {},
   "source": [
    "## 1.4 Code Challenge: Implement MedianString\n",
    "\n",
    "Input: An integer k, followed by a space-separated collection of strings Dna.\n",
    "Output: A k-mer Pattern that minimizes d(Pattern, Dna) among all possible choices of k-mers. (If there are multiple such strings Pattern, then you may return any one.)\n",
    "\n",
    "```\n",
    "MedianString(Dna, k)\n",
    "    distance ← ∞\n",
    "    for each k-mer Pattern from AA…AA to TT…TT\n",
    "        if distance > d(Pattern, Dna)\n",
    "             distance ← d(Pattern, Dna)\n",
    "             Median ← Pattern\n",
    "    return Median\n",
    "```\n",
    "\n",
    "### Sample Input:\n",
    "```\n",
    "3\n",
    "AAATTGACGCAT GACGACCACGTT CGTCAGCGCCTG GCTGAGCACCGG AGTTCGGGACAG\n",
    "```\n",
    "\n",
    "### Sample Output:\n",
    "\n",
    "```\n",
    "GAC\n",
    "```"
   ]
  },
  {
   "cell_type": "code",
   "execution_count": 1,
   "metadata": {},
   "outputs": [],
   "source": [
    "def hamming_distance(seq, seq_prime):\n",
    "    diff = [int(a != b) for a, b in zip(seq, seq_prime)]\n",
    "    return sum(diff)\n",
    "\n",
    "def distance(kmer, dna):\n",
    "    d = 0\n",
    "    for chunk in dna:\n",
    "        d += min([hamming_distance(kmer, chunk[i:i+k]) for i in range(len(chunk) - k + 1)])\n",
    "    return d"
   ]
  },
  {
   "cell_type": "code",
   "execution_count": 2,
   "metadata": {},
   "outputs": [],
   "source": [
    "from numpy import inf\n",
    "\n",
    "def median_string(dna, k):\n",
    "    median = None\n",
    "    d = inf\n",
    "    kmers = list(set([chunk[i:i+k] for chunk in dna for i in range(len(chunk) - k + 1)]))\n",
    "    for kmer in kmers:\n",
    "        d_prime = distance(kmer, dna)\n",
    "        if d > d_prime:\n",
    "            d = d_prime\n",
    "            median = kmer\n",
    "    return median"
   ]
  },
  {
   "cell_type": "code",
   "execution_count": 3,
   "metadata": {},
   "outputs": [],
   "source": [
    "k = 3\n",
    "dna = [\n",
    "    'AAATTGACGCAT',\n",
    "    'GACGACCACGTT',\n",
    "    'CGTCAGCGCCTG',\n",
    "    'GCTGAGCACCGG',\n",
    "    'AGTTCGGGACAG',\n",
    "]\n",
    "sample_in = (dna, k)\n",
    "sample_out = 'GAC'"
   ]
  },
  {
   "cell_type": "code",
   "execution_count": 4,
   "metadata": {},
   "outputs": [],
   "source": [
    "assert median_string(*sample_in) == sample_out"
   ]
  },
  {
   "cell_type": "code",
   "execution_count": 5,
   "metadata": {},
   "outputs": [
    {
     "data": {
      "text/plain": [
       "'GCTCTA'"
      ]
     },
     "execution_count": 5,
     "metadata": {},
     "output_type": "execute_result"
    }
   ],
   "source": [
    "k = 6\n",
    "dna = [\n",
    "    'ACGCCAGCCTGCTCCTTGGAAGGGGCTCTACTATATCGTAGT',\n",
    "    'TCTCTACACAATACTTATGCTTGAGCCTGATAAGTAAGGTAT',\n",
    "    'AATCCAACTCTACCTAAATGTATACGCAGTAACATAGCCGGC',\n",
    "    'TCTTTCATAGATTGCAGAGGTTGGTCTCTAATCTTAGCGATC',\n",
    "    'CATAGCCCTCTAAACAAACGCATTGTCCTTCCACTTTAAAGG',\n",
    "    'ATTCCGTGACATCCTCTATTGAGCGGTGGCACGTAGCACACG',\n",
    "    'AACCTATCATTGACAATAGCTCTAGAGATAGTGTGTGTGGTC',\n",
    "    'GGTGCTGCAAGAGCTCTAAAGGGTATGTAATGTTAGATCCGT',\n",
    "    'AACAGCGCTCTAACTGATAACCGTCTTCGAGAGAAAACGCGT',\n",
    "    'TATGATAGATGACTGGATGGCCGGATGCTATATGGTTCTCTA',\n",
    "]\n",
    "\n",
    "median_string(dna, k)"
   ]
  },
  {
   "cell_type": "code",
   "execution_count": 27,
   "metadata": {},
   "outputs": [
    {
     "data": {
      "text/plain": [
       "'GAACCAC'"
      ]
     },
     "execution_count": 27,
     "metadata": {},
     "output_type": "execute_result"
    }
   ],
   "source": [
    "k = 7\n",
    "dna = [\n",
    "    'CTCGATGAGTAGGAAAGTAGTTTCACTGGGCGAACCACCCCGGCGCTAATCCTAGTGCCC',\n",
    "    'GCAATCCTACCCGAGGCCACATATCAGTAGGAACTAGAACCACCACGGGTGGCTAGTTTC',\n",
    "    'GGTGTTGAACCACGGGGTTAGTTTCATCTATTGTAGGAATCGGCTTCAAATCCTACACAG',\n",
    "]\n",
    "\n",
    "median_string(dna, k)"
   ]
  },
  {
   "attachments": {},
   "cell_type": "markdown",
   "metadata": {},
   "source": [
    "## Code Challenge: Solve the Profile-most Probable k-mer Problem.\n",
    "Profile-most Probable k-mer Problem: Find a Profile-most probable k-mer in a string.\n",
    "\n",
    "Input: A string Text, an integer k, and a 4 × k matrix Profile.\n",
    "Output: A Profile-most probable k-mer in Text.\n",
    "\n",
    "### Sample Input:\n",
    "\n",
    "```\n",
    "ACCTGTTTATTGCCTAAGTTCCGAACAAACCCAATATAGCCCGAGGGCCT\n",
    "5\n",
    "0.2 0.2 0.3 0.2 0.3\n",
    "0.4 0.3 0.1 0.5 0.1\n",
    "0.3 0.3 0.5 0.2 0.4\n",
    "0.1 0.2 0.1 0.1 0.2\n",
    "```\n",
    "\n",
    "\n",
    "### Sample Output:\n",
    "\n",
    "```\n",
    "CCGAG\n",
    "```"
   ]
  },
  {
   "cell_type": "code",
   "execution_count": 6,
   "metadata": {},
   "outputs": [],
   "source": [
    "def profile_most_probable_kmer(text, k, profile):\n",
    "    bases = {'A': 0, 'C': 1, 'G': 2, 'T': 3}\n",
    "    probabilities = dict()\n",
    "    for i in range(len(text) - k + 1):\n",
    "        kmer = text[i:i+k]\n",
    "        if kmer not in probabilities.keys():\n",
    "            probability = 1\n",
    "            for j, base in enumerate(kmer):\n",
    "                probability *= float(profile[bases[base]][j])\n",
    "            probabilities[kmer] = probability\n",
    "    most_probable, _ = max(probabilities.items(), key=lambda x:x[1])\n",
    "    return most_probable"
   ]
  },
  {
   "cell_type": "code",
   "execution_count": 7,
   "metadata": {},
   "outputs": [],
   "source": [
    "text = 'ACCTGTTTATTGCCTAAGTTCCGAACAAACCCAATATAGCCCGAGGGCCT'\n",
    "k = 5\n",
    "profile_ = \"\"\"\n",
    "0.2 0.2 0.3 0.2 0.3\n",
    "0.4 0.3 0.1 0.5 0.1\n",
    "0.3 0.3 0.5 0.2 0.4\n",
    "0.1 0.2 0.1 0.1 0.2\n",
    "\"\"\"\n",
    "profile = [line.split(' ') for line in profile_.split('\\n') if line]\n",
    "\n",
    "sample_in = (text, k, profile)\n",
    "sample_out = 'CCGAG'"
   ]
  },
  {
   "cell_type": "code",
   "execution_count": 8,
   "metadata": {},
   "outputs": [],
   "source": [
    "assert profile_most_probable_kmer(*sample_in) == sample_out"
   ]
  },
  {
   "cell_type": "code",
   "execution_count": 11,
   "metadata": {},
   "outputs": [
    {
     "data": {
      "text/plain": [
       "'GACTCTCTTGCTGAT'"
      ]
     },
     "execution_count": 11,
     "metadata": {},
     "output_type": "execute_result"
    }
   ],
   "source": [
    "text = 'TCTCATGGGGGAGTCTAGTACTTTAAACAGATTTCTTTTGCACACCCGTAGCCGCTGATCAAAATACAATGGACTTCTCAAAAGATCGAGGGACCCTCACCCGGGGGAAATGATAAAGTCTGATAGGAAGCAATCCGGAGTTGAATCACGAAGACGCCCGAAACACCCGATCTAAATAGAATCTTAGGCATAACCCGCACGTGCAACTGGGGAACATTCTGCGAAGTTGAGGGGGAATGTGATTCCGCAATCCGATATAATAACTTTTAAGAGTGACTGGGGACTGCACAGCCACCTTCATGAACACCCTAGGGTTTAGGACCGAAGCAGTAATCTCTCAGCCGTACCGATTTATTGAGGCGGCCAGTTACCGCCCTAGTGGCTCCTTTAACAAGCACTTCTCTTGTTTCTCAATCGGTTAGGTAATTTCACCCAAATACTCTGGTAGTAACAGTACTCACCCGCCAACCCACATACACTCATTAGCTTCGAGTTGTAGTGGCGGATCTAAGAGTTCGGGTCGAAACCTGTTTCTTCTCTGTTTTCCAGGCTCGGTGAAGAAAGCTAAAGGGGTCACTTCCCTCTTGCACTCCTTGATTAGCACCCACATTTCTCTCTGTATTTATCCAATCAATAGCTCGTAGCCTAAGTATGTATTTGAATTGCGCAATTGGGGCTACCCCGTCCGTGCACGTCGGAGGTACTGTCCTCGGAGGCAAAACCAACGTGTATTCCGCACCCATCGAAATACTGTATGTGACATGAAGACCAAAGAAAGGCTAATGCTGTTGCGTCTAATCCGCTTAACGTTATGTTGCTACGCGGTAACCTATGGGATTTGGGCAGGACTCTCTTGCTGATTATACCAATTATTCTGAGCGCAACGCCGCCCGGATCTTCAGTCTCTTATGTGACGATAGACAATTGACAGCAAAACTTGGGATCAAATAGTCATCACCGTGACTAATCGAGGTTTGAAGTTGCAGCGTTTAGCTGAGGT'\n",
    "k = 15\n",
    "profile_ = \"\"\"\n",
    "0.152 0.273 0.303 0.227 0.197 0.136 0.242 0.258 0.167 0.242 0.258 0.121 0.242 0.242 0.227\n",
    "0.258 0.197 0.197 0.212 0.348 0.212 0.318 0.318 0.258 0.167 0.288 0.288 0.288 0.182 0.258\n",
    "0.258 0.227 0.318 0.212 0.182 0.333 0.197 0.182 0.258 0.379 0.167 0.273 0.273 0.273 0.227\n",
    "0.333 0.303 0.182 0.348 0.273 0.318 0.242 0.242 0.318 0.212 0.288 0.318 0.197 0.303 0.288\n",
    "\"\"\"\n",
    "\n",
    "profile = [line.split(' ') for line in profile_.split('\\n') if line]\n",
    "\n",
    "profile_most_probable_kmer(text, k, profile)"
   ]
  },
  {
   "attachments": {},
   "cell_type": "markdown",
   "metadata": {},
   "source": [
    "## Code Challenge: Implement GreedyMotifSearch.\n",
    "\n",
    "Input: Integers k and t, followed by a space-separated collection of strings Dna.\n",
    "Output: A collection of strings BestMotifs resulting from applying GreedyMotifSearch(Dna, k, t). If at any step you find more than one Profile-most probable k-mer in a given string, use the one occurring first.\n",
    "\n",
    "```\n",
    "GreedyMotifSearch(Dna, k, t)\n",
    "    BestMotifs ← motif matrix formed by first k-mers in each string from Dna\n",
    "    for each k-mer Motif in the first string from Dna\n",
    "        Motif1 ← Motif\n",
    "        for i = 2 to t\n",
    "            form Profile from motifs Motif1, …, Motifi - 1\n",
    "            Motifi ← Profile-most probable k-mer in the i-th string in Dna\n",
    "        Motifs ← (Motif1, …, Motift)\n",
    "        if Score(Motifs) < Score(BestMotifs)\n",
    "            BestMotifs ← Motifs\n",
    "    return BestMotifs\n",
    "```\n",
    "\n",
    "### Sample Input:\n",
    "\n",
    "```\n",
    "3 5\n",
    "GGCGTTCAGGCA AAGAATCAGTCA CAAGGAGTTCGC CACGTCAATCAC CAATAATATTCG\n",
    "```\n",
    "\n",
    "### Sample Output:\n",
    "```\n",
    "CAG CAG CAA CAA CAA\n",
    "```"
   ]
  },
  {
   "cell_type": "code",
   "execution_count": 12,
   "metadata": {},
   "outputs": [],
   "source": [
    "import numpy as np\n",
    "\n",
    "def form_profile(motifs):\n",
    "    bases = {'A': 0, 'C': 1, 'G': 2, 'T': 3}\n",
    "    counts = np.zeros((4, len(motifs[0])))\n",
    "    for line in motifs:\n",
    "        for j, base in enumerate(line):\n",
    "            counts[bases[base]][j] += 1\n",
    "    freqs = counts / counts.sum(axis=0, keepdims=True)\n",
    "    return freqs.tolist()\n",
    "\n",
    "def score_motifs(motifs):\n",
    "    bases = {'A': 0, 'C': 1, 'G': 2, 'T': 3}\n",
    "    n = len(motifs[0])\n",
    "    counts = np.zeros((4, n))\n",
    "    for line in motifs:\n",
    "        for j, base in enumerate(line):\n",
    "            counts[bases[base]][j] += 1\n",
    "    score = sum(len(motifs) - counts.max(axis=0))\n",
    "    return score"
   ]
  },
  {
   "cell_type": "code",
   "execution_count": 13,
   "metadata": {},
   "outputs": [],
   "source": [
    "assert score_motifs([\n",
    "    'TC',\n",
    "    'CC',\n",
    "    'AC',\n",
    "    'TT',\n",
    "    'AA',\n",
    "    'TT',\n",
    "    'TC',\n",
    "    'TA',\n",
    "    'TC',\n",
    "    'TC',\n",
    "]) == 7"
   ]
  },
  {
   "cell_type": "code",
   "execution_count": 14,
   "metadata": {},
   "outputs": [],
   "source": [
    "def greedy_motif_search(dna, k, t):\n",
    "    best_motifs = [chunk[0:k] for chunk in dna]\n",
    "    for i in range(len(dna[0]) - k + 1):\n",
    "        kmer = dna[0][i:i+k]\n",
    "        motifs = [kmer]\n",
    "        for j, chunk in enumerate(dna[1:]):\n",
    "            profile = form_profile(motifs[:j+1])\n",
    "            motifs.append(profile_most_probable_kmer(chunk, k, profile))\n",
    "        if score_motifs(motifs) < score_motifs(best_motifs):\n",
    "            best_motifs = motifs\n",
    "    return best_motifs"
   ]
  },
  {
   "cell_type": "code",
   "execution_count": 15,
   "metadata": {},
   "outputs": [],
   "source": [
    "k = 3\n",
    "t = 5\n",
    "dna = [\n",
    "    'GGCGTTCAGGCA',\n",
    "    'AAGAATCAGTCA',\n",
    "    'CAAGGAGTTCGC',\n",
    "    'CACGTCAATCAC',\n",
    "    'CAATAATATTCG',\n",
    "]\n",
    "sample_in = (dna, k, t)\n",
    "sample_out = ['CAG', 'CAG', 'CAA', 'CAA', 'CAA']\n",
    "\n",
    "assert greedy_motif_search(*sample_in) == sample_out"
   ]
  },
  {
   "cell_type": "code",
   "execution_count": 17,
   "metadata": {},
   "outputs": [
    {
     "data": {
      "text/plain": [
       "['GCCCGGACCGGA',\n",
       " 'CATCCCGCAACG',\n",
       " 'TCTCCAGTTCGT',\n",
       " 'TATCATGTGTAA',\n",
       " 'TGATTCAAGTTC',\n",
       " 'TGTCCCGTAAGC',\n",
       " 'TCACGAGCACGA',\n",
       " 'GAACTCGTATGA',\n",
       " 'TCTTGCGAAAGA',\n",
       " 'CCTTCAGAAGAA',\n",
       " 'TCTTTCGCCAGA',\n",
       " 'GGACTCGTATAA',\n",
       " 'TCACAGGTAAAG',\n",
       " 'CGACCCGCCAGC',\n",
       " 'CCACGCGAAAGG',\n",
       " 'GAACCCAACGGA',\n",
       " 'GCATTAGTGAAG',\n",
       " 'TGACGTGAAAGG',\n",
       " 'TCATGAAAATGA',\n",
       " 'TCACGCACTTGA',\n",
       " 'CCACCCACAAGA',\n",
       " 'GCACTCGTAAGG',\n",
       " 'TCACCCGTATTT',\n",
       " 'GCATTCAAACAG',\n",
       " 'GAACCAAACAGA']"
      ]
     },
     "execution_count": 17,
     "metadata": {},
     "output_type": "execute_result"
    }
   ],
   "source": [
    "k = 12 \n",
    "t = 25\n",
    "dna = [\n",
    "    'TTACCTGGCTGTACCTTTACTCTATCTCGGCTCTGGAATATGTCGGCTTCAAGGAGACTGACCCTGCTGGTCAGCGAAATAGACACCGCTCCTTGCAGAGGACTCTCGCGTCATGCCCGGACCGGACTCGTAAATGACCGGCTTGTAAGTAGGTAT', \n",
    "    'CATCCCGCAACGAGGAGCGCGTGGCAGGACGTCGCGTCGTTGATAGGTAATATAAGGATTATTCTGATTACTGTTAGTATGTTAACTGCACTAGTAAAGTGCAGATCCGCCGTGTTAGGCTCGCTTATGTTGTACCTCGGGTACCCCACAACTAGT', \n",
    "    'TCTCCAGTTCGTGAGTAATATATAAATGAGGCAGGGCAAGGACATGCAGCCGGTCCCGCCGGCTCACAAAGGGGGATTACGCAACCAGCACTGGTAATTTGGAGAGTTGGACTTTGGGGAAGCGGCTCAGGGTCTGGAACTATAAACCGGTTTGAG', \n",
    "    'TATCATGTGTAATACCACCGACCACAATAATGATCCGTGCGCCCTCATAACGCGAGCTTAACGGTACTCGTACCCACTTATGTAGCCGTAACCCCAATGCGTATCTAATGGATGCAAGTGTCAGCGTGTAAAGGCTGAGTCTCTGACAGATACGTG', \n",
    "    'TGATTCAAGTTCGTACGATCGAAGGCTTTCACCCTCCAGACACCATATAGTCGCAAAACAGCGCTGGTTCGACTCAGGAGGTCTTGTAAGTAACGTGGTTCTAAGACAAGAGGTGAGAACGCGGGACTGGTAGGTAGAGGTGTAACACCTATCTCT', \n",
    "    'TATACATCATACCCGCGTGGCGCTGTTTACAGGCAGGCTGAACTCGTAGCCTTATGTCACTCCCAGACAATCCGCTGGTCACACAGGCTCCAGGGTATCCCAGGGCACATAGCCCGTCAAAGTGCGGGTCCTCCAACGTGTCCCGTAAGCACAGCC', \n",
    "    'TGAAGATGTGGCTGTAGCTTCCCACGTTCTATGCAAACTCTCCGTAGCAAGCTAATGATCTACACGACTCAGGCGTACTCTCATTCAGTACTGGTATGGAGACATCGACCAATGATTCACGAGCACGAATGTTGGCATAATCTAGTGAATCGCCTG', \n",
    "    'ACGCCATCCTCATTAATGGTCCGCCATCAGCTAAATTCTAGCCTCAAGCTGTTACTTAGCGAACGAAGGTCCTGGAAGAGATGGATGCTGCAGGGCGCCGAACTCGTATGAAACGTTTCCACCAGATACGATTAGCACTTAACGGGATAGTGACTA', \n",
    "    'GATGTTGCCGGTCGCATCATGTTGTATCAAATTTCTGCAGATATTGCATCAGTGCTAACGGTTTCAAAAGGGGCCGGACTGGTATTTTGTTGCCCGATAATTCATGGCGGGCGCCTCACCTTTTAGATCCTTTCTGGCCGCTCTTGCGAAAGATCT', \n",
    "    'CCTGCACTGGTAGCGGTACAGCTGATATGATGGATAGGTCGGGTCTCCTTCAGAAGAAAAGCGGGACTATTGCAGAGTGGCGGACTATACGATAAGTGCAGAGAGGTTGTTAAGAGTCGTACGCGCGGAGGTGTTCACAACTGTTCCCCATTTGCC', \n",
    "    'GACCGGTAACGTACTATTTCGAAATAACAGTGAAAATATTAATTGGTACCAATCTTTCGCCAGAGCAGGGGCTGGCGAACGACTGCACCCCATCTCCCCGGTCGTGTGTCGTTAGAGACGTAGAATACTAATCACTCCGCAATCACTGGACTGGTA', \n",
    "    'CACATCTCTTGGATCTAATTTGCTGCGACAATCATTGCGTGCGGCGAACGAACAGAACGGTCGTTTACCTGGTGCCCCAAACTTACAGTGCTTTCCGATTACCCGTGTGCCGGACTCGTATAATGAAGGTGGGTAAATAATTCCGTTTGAAAACAC', \n",
    "    'ACGGCACTTGTACTTCTGACGTGAGGCGAGAAGTAGGCCTACGCTAATCCTCCCTACGCCCAGGTGTCACAGGTAAAGGAAGTATCGGCTCAGTATTTTTATCGGCTTTCCGGAGTCATCACACCAACTGAACGTTCACCTTTCTCTAAGGTGAGT', \n",
    "    'ACCGTACTTGTATTCTGCTGAGTCTTGTTCCCTCCAACTGCCATCTAATACGTCCCAATATGCCCCGGAGCAGCCGACCCGCCAGCTCCAGGGGCCGGTATTTTACTATTAGCGGTAGTATGTAGTTGTTTTTTGACCGTCTATATTTGAACGAGT', \n",
    "    'TTTGAAATAGGTAGGCATACGCCCAAAACCACGCGAAAGGTCTGACCACAACGCAACGCGCTTGGCTCGTGGGCTCTCATCTGTCTTGTCGGCTTACCAGGACTGGTAGTAGCATTCTCGAGGATTTCTAATTGCTATGGTTGTTATTCTTGCCTG', \n",
    "    'ACCTTACCGTAAAGCTTTAGGCGCAAGCCCGTTTGCAAAGGGCTGGGGCCAGTACTAGTAAGAATCGCACACCGAGGATTCCCCCAGCTGTCCCGGCACGGATAACGTCGCTAGCTGGTCCGAAGATAGAACCCAACGGACCTGATATAAGCGGAC', \n",
    "    'TGGGAAGGCTATCGTCACTAGGATAATTAGAGACAGCATTAGTGAAGCTGACGGAGTAAGAAGAGTGCGTGAATTAGTTGCGCCATCTCTTAATCTTACGGGAGTGGATGCAACTGGACCATACGGTTCCCTAGGTTAACTTATACTGGACTTGTA', \n",
    "    'GGAGCACAGTTCTCTCAAAACGGTGTGACGTGAAAGGATATCTAAATTCCGGGACTGGTAGTGTCCCCTAATCACTCCATAAACGTGAATATCCAGCGTATAATTCATCAACCGCGCCAGGAATAAAAGGGCATGGGTATCCAGTGCCTCGAAATC', \n",
    "    'TAGACCGAGTCCCACTTGTTAAAACAATGTGTGGTGTCTGCACTAGTAGTTCGATGATACCCCCTTCGTGGTATCCAGACGCCTTAGTGCTGCCCACGGGCGGCTTGAGCCCATGTTAGGCTGAATGTTTAGGTGTCTTTCATGAAAATGAACCGG', \n",
    "    'ACATGTACGTCCCAGACCGGAGGTATAGAGGTGGTCGGGGATGCTCGCATTCGCCAGTAAGGAACTGTCGATGCGGTACTTGTAACTTCTTTTATAATCGTCATCACGCACTTGACTTCCCTTCTATAAATCACACCTCCACTCCATATTTAATGT', \n",
    "    'GATTATTTCCTCATACAGGCGGCGGGTGCTGGAGACCGCTTCAGTGCCTGAAAGTTTCAGCCCATAATAATCCCTGCCCACCCCCTGAGGATGGACTCGAACCAGCACTCAGTACTGGTAAATCCACCCACAAGATTCACTATTTGAGGACAATAT', \n",
    "    'TAGTTGACATGATTCATCTGGATACTTGCAGCTGACAATTCCCGGACGGATTCCACCGGGCATTGAAAGAATCACGTGAATAAGACAAAATACTCTAGGCTGCGGGACCCAGCACTCGTAAGGGTCTTTCTGTACCGATGTCACGTCGTGGACCTT', \n",
    "    'GTCACCCGTATTTGACCACGAGATGCATCATTGGGAAAGTAACGCCCGGGATTGCAAGCCGTATTTTCTAACGCCACCCCATAGCCGGGACTTGTATTAGGATCATTGCTTCGTCACATGGCCACTGGGTTCATTTCTATCAGTCATTTCGCCTTG', \n",
    "    'TTGACCACCGCAAGATGCAGTTATAGTACTGTTGTTCTTGTCTCCTTGAGGGAAACTTTACCAGAACTGGTACGCCGTACTATTGTTACGGGGATAAGAATCGCATTCAAACAGCCGTGTGCTTACTTAAGAGGCCCCAGAGTCGGCGAACTTACG', \n",
    "    'CGCCTCAACTTCCGTGGCTCGAGTTGAACCAAACAGACGCCGTCGATCCATCAAGGTTCGGTCAAACGCTGGTCTGTGGAAAGTAGGTTGACTGTGTCGGTACTGGTAAAGTGTTGCACGCTCCTATGCAATAATCCAGCTTCGTCTAAGTTCGGC',\n",
    "]\n",
    "\n",
    "greedy_motif_search(dna, k, t)"
   ]
  },
  {
   "attachments": {},
   "cell_type": "markdown",
   "metadata": {},
   "source": [
    "## Code Challenge: Implement GreedyMotifSearch with pseudocounts.\n",
    "\n",
    "Input: Integers k and t, followed by a space-separated collection of strings Dna.\n",
    "Output: A collection of strings BestMotifs resulting from applying GreedyMotifSearch(Dna, k, t) with pseudocounts. If at any step you find more than one Profile-most probable k-mer in a given string, use the one occurring first.\n",
    "\n",
    "### Sample Input:\n",
    "\n",
    "```\n",
    "3 5\n",
    "GGCGTTCAGGCA AAGAATCAGTCA CAAGGAGTTCGC CACGTCAATCAC CAATAATATTCG\n",
    "```\n",
    "\n",
    "### Sample Output:\n",
    "\n",
    "```\n",
    "TTC ATC TTC ATC TTC\n",
    "```"
   ]
  },
  {
   "cell_type": "code",
   "execution_count": 18,
   "metadata": {},
   "outputs": [],
   "source": [
    "import numpy as np\n",
    "\n",
    "def pseudo_form_profile(motifs):\n",
    "    bases = {'A': 0, 'C': 1, 'G': 2, 'T': 3}\n",
    "    counts = np.ones((4, len(motifs[0])))\n",
    "    for line in motifs:\n",
    "        for j, base in enumerate(line):\n",
    "            counts[bases[base]][j] += 1\n",
    "    freqs = counts / counts.sum(axis=0, keepdims=True)\n",
    "    return freqs.tolist()\n",
    "\n",
    "def pseudo_greedy_motif_search(dna, k, t):\n",
    "    best_motifs = [chunk[0:k] for chunk in dna]\n",
    "    for i in range(len(dna[0]) - k + 1):\n",
    "        kmer = dna[0][i:i+k]\n",
    "        motifs = [kmer]\n",
    "        for j, chunk in enumerate(dna[1:]):\n",
    "            profile = pseudo_form_profile(motifs[:j+1])\n",
    "            motifs.append(profile_most_probable_kmer(chunk, k, profile))\n",
    "        if score_motifs(motifs) < score_motifs(best_motifs):\n",
    "            best_motifs = motifs\n",
    "    return best_motifs"
   ]
  },
  {
   "cell_type": "code",
   "execution_count": 19,
   "metadata": {},
   "outputs": [],
   "source": [
    "k = 3\n",
    "t = 5\n",
    "dna = [\n",
    "    'GGCGTTCAGGCA',\n",
    "    'AAGAATCAGTCA',\n",
    "    'CAAGGAGTTCGC',\n",
    "    'CACGTCAATCAC',\n",
    "    'CAATAATATTCG',\n",
    "]\n",
    "sample_in = (dna, k, t)\n",
    "sample_out = ['TTC', 'ATC', 'TTC', 'ATC', 'TTC']\n",
    "\n",
    "assert pseudo_greedy_motif_search(*sample_in) == sample_out"
   ]
  },
  {
   "cell_type": "code",
   "execution_count": 20,
   "metadata": {},
   "outputs": [
    {
     "name": "stdout",
     "output_type": "stream",
     "text": [
      "CTCCGGAACCTA\n",
      "GTCCGGGGCCCA\n",
      "TTCCGGCTCCGA\n",
      "CTCCGGAACCCA\n",
      "GTCCGGTACCAA\n",
      "TTCCGGAGCCGA\n",
      "TTCCGGAACCGA\n",
      "TTCCGGTGCCTA\n",
      "GTCCGGGGCCTA\n",
      "TTCCGGACCCAA\n",
      "CTCCGGGACCTA\n",
      "GTCCGGTACCCA\n",
      "ATCCGGCCCCTA\n",
      "ATCCGGGTCCCA\n",
      "CTCCGGGACCTA\n",
      "CTCCGGCACCTA\n",
      "CTCCGGAACCAA\n",
      "GTCCGGTGCCTA\n",
      "TTCCGGTGCCGA\n",
      "TTCCGGAACCAA\n",
      "CTCCGGCGCCAA\n",
      "GTCCGGATCCAA\n",
      "GTCCGGTCCCTA\n",
      "TTCCGGTTCCGA\n",
      "CTCCGGGGCCAA\n"
     ]
    }
   ],
   "source": [
    "k = 12 \n",
    "t = 25\n",
    "dna = [\n",
    "    'ATTTTCCATGGTCAGGTGGCGGTTGGTGAAACTAACCATCGTACAGCTCTGAATAACCTTCATTGTCTTGAACCTCTGATCCCTCTCCGGAACCTAAGATCCACTCGAGCGATTATAAGTGGCATCTCGGCAGACACTAGGCGTTTCGTTATCATC',\n",
    "    'ACGATGTTGTACTGATAGGCAAATCGTCGCACGGTGGAACCACACGCCGGCCAATGCCTCAATCGTTCGGCCGATCAACTATTAGTGAGACAGCAGGCCAGCCAGAGAGTCCGGGGCCCAGGGGTACAAAAACTTACAGCGATTCTGGGAGTCCGC',\n",
    "    'ACTCACCCGGTGTTCCGGCTCCGATCGACGATCCTCAATCTTGTAAGTAATTGTGACTCCGGTTTCAACAAACGCTCTCGAATAGCGGATATTCTACTACAACGATTTAATCACGCTGGTAAGGAGTTGGGCAGGCTACGTGCCTGGCTGTATAGG',\n",
    "    'AGTAGGTTGTTTGTAAATCTTCTGGCCAGGTAGGTGCCTCTTTGGTATTCGTCGAGGCAGGCGTTTGGGCCACCCTGGGTGCTCTGAAAATCCCCGTGTTTCGAGGAGAGCCGCATAACCTGCAACGCTACTCTCCGGAACCCACCTTGACTAGGA',\n",
    "    'TGTAACGTTTAAGCGCGACTTTAGCTCTCGAGGGCTGCTGTTACAAGGACTCCCATACTCGAGCCAGTTAAGACTCCGCAGCGCGTCCGGTACCAACCACAGCAGCTTTTCAGGTCAGCGAACAGCTCAGGTGAGAGCGCATAGGGCTCTCATGGC',\n",
    "    'CACAGATAGCGTACGCCAATTTGTCCTCGACACTAACTGTTTCTCGCGTAGTCATTTAGGCTCCGCTTATGTCAACTACGATTCTTCCGGAGCCGAGGTTTCCCTGAACACTGCGATGCTTCCTGGTAACTCACCCTCTTATTTGGTCTCCGGCTT',\n",
    "    'GCGTATCTTCAGTTCCGGAACCGAGGTGTGGATAAACTCAGTCTGCACTTCATCGGTGAGCTAACGTTGTAATACCGGACAAAGGATGACTCGACGCGTTCCTGTCTTGCTTATAGGTGGCTCAGATCTGACTGAGATCATAAGGGTCCTGTAGCC',\n",
    "    'GCTCTGCAGGCGGGAATTTCGGGTCTGGGCTGTGGAGGCTCCTTGCACACGAGTGTCGCGCGTACGAGCGGCGAATTAAGAATATTCCGGTGCCTAGGTCCAGCCGAAGAATGTACTATTACGTAATATTGTATCGGCCAAGGATTTGACCCAAGT',\n",
    "    'GTGTAGATCTGTTTCAATGCTCGTGAAGGACACGGAGTCCGGGGCCTACCTAGCACCAAAGCGCTTTCCCAACGAGTTGGGTGCTCCGTCGTACCACGTCGGCAACTTTTATTCCACGCCTCGGTGGATGCCCGACTGTCCGCTCAACGTACTGCC',\n",
    "    'ACAGCGCCAATTACATTAGCATTGCGCACCACGGCGTTCCGGACCCAAGCACGAGCGTGGGTCCAATTGGTGAAAAAACCGCGATTCCAAGGAGCCTTTGTAGGATGCGAAGAAGCTTACAATTAGCCACTGAGAAGCATGGTACAAACGCTCCAC',\n",
    "    'CTCCGGGACCTACTCGTGTATAGTATATTTCAATATCGTTTTACGGCTCTCGAGACCGTTCTAGCAGGACTGGACGATAACACGGTTGTTTATGACAGTGTTGAATACGTGATGATACGGTCGGGCTCTCTTGGCTAAATCCCACATTAGTGTGCC',\n",
    "    'AAGGCAATGAGGAGTTTATGGGAAGGGGGTCTAGACGGAGGCGCCGTCGAGACGAGGGTTGTCCGGTACCCAACCCAATGCCTTCAAGGCCACTGCTTTGCGAGGTTCTAGTCGCTGAATTTTTGAACAGGGCACCTGGCAATTGCTGTGTGTGTG',\n",
    "    'ACGACCGGGGAATATGTCTGATATTATGGGCGACCTATCCGGCCCCTAGCGCGACACCCAGAACTTAATAATCAGGTAGCGGGGACCACGGAATTTCCCAGGTACCAGTACTGTCCTCGGCAGGATAACGCTCCCATTGTCGCCTGATTCACTTCT',\n",
    "    'TCTGGGCTCTTTGACAGGTGCAGCATCCGGGTCCCACTTCTGATTACGTGTGAAAAAATGCGTATTTCGTTTACCTGCCATTGAGAAGTCCCAGCTACGTTGGAGACGTATGCGTAGTCGGGTTCGTGAACGTACACGCGTCAAAGAAGTTGTAGC',\n",
    "    'CTATCTTTCGTGAAAAACGCGGCTCTCCGGGACCTAATAGTCACGGGTATGTATTAAACTAATTCTGGGGTATTTAACCCTCGTACCGTTCGGAAGATAGTCCTGTGGGCATAGGATACCGAGTTACACCTGTGTGCTTGCTGTGCTGGGAAGGCT',\n",
    "    'CCCGCATTGTATGAAAGCGTTTGGCTCGAGCGGAACCCAGCTTCGTTGTGCAAGCGGCGGACGTGTACAGAGGCGCGGGGCGCTTGCTGACCATCAAATACAATCGGACTCCGGCACCTAAGACCTCCGCGTTCATAGGGGTTATGCGTTCCGCCC',\n",
    "    'CTCAAAGCTACGCTTGGGCAACTTAAGAATCCGTCACTCCGGAACCAAAACATGCGGCTTCTGAGATTCCTACGATACATCTTTACTAATACCGGAAATAGATCGGCTCTGTTCTCCTATTAAAGTGGCTGTGAGCTAATCCTGGCGTCAGGGATC',\n",
    "    'GTCAAACCCGGATTAACGCATCGGAGTGTCCCAATGTAAACTTAGACTCGTCAACCACGAAGTCAATATTTTGAGAACATAGCAGGCAAAGACACGGTAATTCTCGTCCGCTGTTACAGTTATTTATTCCTTGTCCGGTGCCTAAAAAAGCGATTT',\n",
    "    'CTTGCGATCCTCATATTTCGGTATTCAGAGTTGACCGACTTGGTCGCATACGGGGCCAGGGGCCTAACTTCTTCGTAGAGTATCTTCCGGTGCCGATCGACTGACAATTCGGTCTTCTGCTTCAATTGCGTACGCCAATATTTGGTCTGGTTTGCA',\n",
    "    'TCACCGATTTCCTATATGCGAGTCTGCGGTAACGCAAATAGCAAATATACTGATGGTTACTTCCGGAACCAATGGGAGGTAAACGAGGCAAGATCTACATTTCTGTGCACATCGGCCACGTTTGCGATGCCGCACCCCATCTCCTGGCCATGGTAT',\n",
    "    'CTCCGGCGCCAATGATAAGTCTAATCAACTAGTAATGATCTGCAATCGTTGCACTCCTCAACAGTCTTATCAGCTGTCGAGGGCTCTGCAGAACCTGTCCACCTGTACCCTGCATGGGATGCGTGGGGTCTCCTACAACTTCCGTGCCATGGAAAT',\n",
    "    'GGCAGATCGCCCTGGGAGTCACAAAAGCAACAGGACAACATCCGCTAGTATGGCAAGAACAGAATGCATTTTTAAAGTTTCAAGGAATATAACTAGTATGCATGGTCGGACGTACGCGTATCCTCGCGTTCCGTCCGGATCCAACGTATTAAAAAA',\n",
    "    'TCCGCCGTCGGCTGTCTATGCATTTGACCATACTCAGTCCGGTCCCTACTGTGGCACAATGCCACGAGCTTGATCAGAAAATAGCTCGCTCGGTCTGACAACGATTGATGCATGAACGAGGTCCTCATACTCTCGTCGAACGGAGGTCGGATCCGA',\n",
    "    'CTTCATCGGCTATTAGACTAGTATGCGCAAATCGTGTCGTCATAGACACGCCGGTACTTGAACCGTAGGTAGGGGTATCTGAGGCTACAGCAGTGTGGTATGCGTAATTTCCGGTTCCGAAGAAACTCGAAGCATTTAAGGCCTCAATTTTATGTG',\n",
    "    'CGTCAATTTACGGTCGCCTCGGGCTTACAAGCGAAGACTCGGGTGTGCGCCCGAATACACCTTACTTCTATGCTATGAATATCCCTCCGGGGCCAAGGGGCTAAGCCAAGCCCTAGATAGTCGGGACTGATCAATAGCCAGGTTACAGTTGATGGA',\n",
    "]\n",
    "\n",
    "print('\\n'.join(pseudo_greedy_motif_search(dna, k, t)))"
   ]
  },
  {
   "cell_type": "code",
   "execution_count": 22,
   "metadata": {},
   "outputs": [],
   "source": [
    "def PatternStringDistance(pattern, dna):\n",
    "    k = len(pattern)\n",
    "    distance = 0\n",
    "    for seq in dna:\n",
    "        l = len(seq)\n",
    "        hd = float('inf')\n",
    "        for i in range(l - k +1):\n",
    "            hdCurr = hamming_distance(pattern, seq[i:i+k])\n",
    "            if hd > hdCurr:\n",
    "                hd = hdCurr\n",
    "        distance += hd\n",
    "    return distance"
   ]
  },
  {
   "cell_type": "code",
   "execution_count": 24,
   "metadata": {},
   "outputs": [
    {
     "data": {
      "text/plain": [
       "5"
      ]
     },
     "execution_count": 24,
     "metadata": {},
     "output_type": "execute_result"
    }
   ],
   "source": [
    "pattern = \"AAA\" \n",
    "dna = [\"TTACCTTAAC\", \"GATATCTGTC\", \"ACGGCGTTCG\", \"CCCTAAAGAG\", \"CGTCAGAGGT\"]\n",
    "\n",
    "PatternStringDistance(pattern, dna)"
   ]
  },
  {
   "cell_type": "code",
   "execution_count": 25,
   "metadata": {},
   "outputs": [],
   "source": [
    "pattern = 'CCCTACA'\n",
    "dna = [\n",
    "    'CCCATTCGGCATGGAAGGAGCATTCGCAATCTGCTTGCCAACGGTGTCAAGACGCCGCAGAAGCGGTCATAGGTGCAGCGGCTTCACCTG',\n",
    "    'CTTAGTTTTAAGGGTAACCGACACTGCTTGTATGCCCGGACATAAGCGTCAAAGGCTTTAACCGGATCAGTTATTCAATAAATCCTTTGC',\n",
    "    'GAAAGGGACGGGGCCGTAGCTCAACGTGCGAGCCTCGAGACAGTTGGAATCAATTCTGGGGACTGTTGTGCCTGAGTACCCGCCTGCGTT',\n",
    "    'CCCCATTCTCACTGAGCTCCTATATCGTAGGACCGTCATCCTAACTATAGCTCCAACCCCTCGACTTTAGCTGTTCCTCAGGTGAACACC',\n",
    "    'AGATCCCGACGGAAACGGGAAACTAGGTGTATGGAGACTCCATAATGTGCAAGATCTGACATACCTTCCTAAACAGTCTATGCTAGGTGG',\n",
    "    'AAGAGCAGCTCACTAAACCCCTCAAAGGTGCAACCGAAAACAGTGGAAATCGGACTCTATGTTCCGTCCATAACCAGCTCTTTGTATTGC',\n",
    "    'TCATTATGACGTATGCCTGATAGGCCGTGTAAAGCAAGAGCACCTAGGGGTATCGAGCTACATGAACGTAAGTGAAGGATTCCCTAGACG',\n",
    "    'AACCTAAGGGTGGCAGCGCAAATGCCTTCTAAGATCATCAAGGAGGAAGAATTCTCAGTTCCGAATCCAACCTCGAGCGTCGTGCACCAG',\n",
    "    'ATATACGTCCTGAGTAGACCAGTGTGTGCGCCGAATAGCTTCCGTGGTGAGTTAAATGCTGCTCCTCCTTCGGTGGCATCCCCGCACAGT',\n",
    "    'CAAAGACCGAGGAGCGGAGGGAAAAGGTCACTATAGCAAGAAAGAGCTCCGCCGAGCTGCGAGCGATTACCGTTCCCTGAAAACTCCGTG',\n",
    "    'CTACAAGCTACTATGCCGCTCGCTAAACGGAACTGCCCGGTAGTGAGAGTATTACAGAACATCGTTTTAATAGACGTGTTATCTGCAGAG',\n",
    "    'CAGTTTTTCCGTATTCCCGCACCTTGGTTAAGAAACAATCGTGGCGTGCCCAGGTAAAAGTACAATGAGAATCTTTGTTTAGTAGTACGA',\n",
    "    'TTTAAGTGTTGTTTGTCGGAAATCCGCTAGGAGGTGTTTCCGAGCACATACTTCGGTGCACTTTGATACTTAATGAGGATGTTAGATTCA',\n",
    "    'TTAGACTGCCGGCTGGCCCTGTCCAGCGGACATGTACACGAGTCATGAGCTGGGTAAGTTCGGACGAACAAGGCCACAACATACGGTTCT',\n",
    "    'TTGACCCCCGCCAGCAAATTAATTGGTCCGGTTATTTGGCCGGGCACACTGGGAGGAGGGATTGTGGATAGCGTATTTTCTGCGACGAAT',\n",
    "    'GTTCAACCCTAGGTGAAAGAGTTGAAACTTCCGTGAGAAGTGCACCTGGATCATCCCATCTTGACGGTTGTAGGTAATTACGGTTGGTTT',\n",
    "    'TCGCAACGGTTATTCCGCTAAACGCCCAATATGACACCTATTGCATCTTACGTAGCGACATGACTGAACGCCGGCCTATTCGGATCGAAG',\n",
    "    'GGAGCTGCACTGTATGGCTAGAAGCCACATGGAATCTGCGCTGCTCTCTAGCACATGTTTCTGGTTACTCTCTAGTTCACACAATTATCA',\n",
    "    'GCCTTCGGGACAGCATATCCATCACGATGAGAGGCGTAATGAATGGGCTCTGTTAGCTTGGACATCGTACTTCCCATCGTATGTGTTGTA',\n",
    "    'TGGCCGGCCGACTTTCCAGACGGAGCTGAGTTCGAGGACTGTCGCCTCCCGACGTCATCGTCTTAGTAGGGCGTCTTGACAGGACACCCA',\n",
    "    'TAGGTATGTCCTGTTTTCTATATAAGTTTACCCTGGAGCACGCCGTACGTCTGTAGTCTTAACATACTTCGGTCTTTGTTGCTGTTAAGG',\n",
    "    'ACTGCGAGTTATCACACTTCCTGATGTCAGTTATCTATTGATAACTTGATTACATCGCATTCCATTGATTTAAGTACTTTAATGCGCGGA',\n",
    "    'CCCGTCGGCTTGTTCCGTTCCTAGCGACGTCGGGATAGAATCCGAATCATCCTGCAGGGTAGCCTACTTCTTTTTGCGACTACGCCCCAG',\n",
    "    'TGCTTTAAATGTCGTCCGTTTCACCGCGATAAACGTAGCGACGCCCCCGAAACTGGCGTATGAGAAGTTATAGGCGTCGACGCGCGAGAG',\n",
    "    'CACATATCAATATCGATAATGCTAGTGGTTGGCCGGCCCCGAATTCTCATGCACTCAAGTACGCTGAATGCGCAGAGGTTGAACGCTCTC',\n",
    "    'TATGCTCGATCCAAGATTGTTCACTACCGTGGACTGGGCTCACGCGGCATGATAGGGCGCTCTGAGATGCTCCGCTTAACGTTGCTTTGA',\n",
    "    'TGTGATATATAAGGTGGATCCGCATACGCCGAGTATATAGTTGTGTCCGCCTATGGAAAACACTCAGCCTAGCTCGGCTGTAGGCACGCC',\n",
    "    'CTATTCGAAGACAAGAATTCCTCAAGGCTCGAATCGCCCAGACCGTACCCGAGCCGAAACATAATCGACATAAAAATTAATCGGCGCCGT',\n",
    "    'CAAATCAAACGCTTGTTACTGATGCCCTACGCCTTCGAGGGGATGAATATTATAACGACTCTCCAGAGTAGGGAGTCCTAACCTCTCACA',\n",
    "    'CTGTTCTCAAGACCTGATACCGCCATACTTGCGATCCCAAACCCAAAACCCGTCTGTTGCCTGTATGTTACTGATGATGTGAATCGTCTC',\n",
    "    'GTTGTATCGAAAGCCAAGCTGCGGCTGCCTGCTGTAGACAGTAAACCTATCGGAACAATGGCTCGCGTGTTGGTGACCCAGCTCTGATTG',\n",
    "]"
   ]
  },
  {
   "cell_type": "code",
   "execution_count": 26,
   "metadata": {},
   "outputs": [
    {
     "data": {
      "text/plain": [
       "71"
      ]
     },
     "execution_count": 26,
     "metadata": {},
     "output_type": "execute_result"
    }
   ],
   "source": [
    "PatternStringDistance(pattern, dna)"
   ]
  },
  {
   "cell_type": "code",
   "execution_count": null,
   "metadata": {},
   "outputs": [],
   "source": []
  }
 ],
 "metadata": {
  "kernelspec": {
   "display_name": "base",
   "language": "python",
   "name": "python3"
  },
  "language_info": {
   "codemirror_mode": {
    "name": "ipython",
    "version": 3
   },
   "file_extension": ".py",
   "mimetype": "text/x-python",
   "name": "python",
   "nbconvert_exporter": "python",
   "pygments_lexer": "ipython3",
   "version": "3.9.12"
  },
  "orig_nbformat": 4,
  "vscode": {
   "interpreter": {
    "hash": "a36752ca7b69215452fdc185ca6efaedb3d2a7922e8f3008e0f4e516fd2b613a"
   }
  }
 },
 "nbformat": 4,
 "nbformat_minor": 2
}
