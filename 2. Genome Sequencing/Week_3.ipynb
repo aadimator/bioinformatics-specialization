{
 "cells": [
  {
   "attachments": {},
   "cell_type": "markdown",
   "metadata": {},
   "source": [
    "## Load the Codon Table\n",
    "\n",
    "The CODON_TABLE dictionary is constructed directly from the lines of the file, where each line is split and the first element is used as the key and the second element (if present) is used as the value."
   ]
  },
  {
   "cell_type": "code",
   "execution_count": 1,
   "metadata": {},
   "outputs": [
    {
     "data": {
      "text/plain": [
       "64"
      ]
     },
     "execution_count": 1,
     "metadata": {},
     "output_type": "execute_result"
    }
   ],
   "source": [
    "with open('data/RNA_codon_table.txt', 'r') as reference_file:\n",
    "    CODON_TABLE = {line.split()[0]: line.split()[1] if len(line.split()) > 1 else '' for line in reference_file}\n",
    "\n",
    "len(CODON_TABLE)"
   ]
  },
  {
   "attachments": {},
   "cell_type": "markdown",
   "metadata": {},
   "source": [
    "## Protein Translation Problem: Translate an RNA string into an amino acid string.\n",
    "\n",
    "**Input**: An RNA string Pattern and the array GeneticCode.  \n",
    "**Output**: The translation of Pattern into an amino acid string Peptide.\n",
    "\n",
    "> Notes:\n",
    "> \n",
    "> - The \"Stop\" codon should not be translated, as shown in the sample below.\n",
    "> - For your convenience, we provide a downloadable RNA codon table indicating which codons encode which amino acids."
   ]
  },
  {
   "cell_type": "code",
   "execution_count": 2,
   "metadata": {},
   "outputs": [],
   "source": [
    "def translate(nucleotides: str) -> str:\n",
    "    \"\"\"\n",
    "    Translate a sequence of nucleotides into a polypeptide.\n",
    "\n",
    "    Args:\n",
    "        nucleotides: A string representing the sequence of nucleotides.\n",
    "\n",
    "    Returns:\n",
    "        A string representing the polypeptide translated from the nucleotide sequence.\n",
    "\n",
    "    Algorithm:\n",
    "    1. Initialize an empty string 'polypeptide' to store the translated polypeptide.\n",
    "    2. Iterate over the range of indices in the nucleotide sequence, with a step size of 3.\n",
    "    3. Extract the current codon from the nucleotide sequence.\n",
    "    4. Append the translation of the codon to the 'polypeptide' string using the codon_table.\n",
    "    5. Return the 'polypeptide' string representing the translated polypeptide.\n",
    "    \"\"\"\n",
    "    polypeptide = \"\"\n",
    "    for i in range(0, len(nucleotides) - 2, 3):\n",
    "        codon = nucleotides[i: i + 3]\n",
    "        polypeptide += CODON_TABLE[codon]\n",
    "    return polypeptide"
   ]
  },
  {
   "cell_type": "code",
   "execution_count": 3,
   "metadata": {},
   "outputs": [],
   "source": [
    "sample_input = 'AUGGCCAUGGCGCCCAGAACUGAGAUCAAUAGUACCCGUAUUAACGGGUGA'\n",
    "sample_output = 'MAMAPRTEINSTRING'\n",
    "\n",
    "assert translate(sample_input) == sample_output"
   ]
  },
  {
   "cell_type": "code",
   "execution_count": 4,
   "metadata": {},
   "outputs": [],
   "source": [
    "input_filename = 'dataset_96_4'\n",
    "with open(f'data/{input_filename}.txt', 'r') as input_file:\n",
    "    test_input = input_file.read()\n",
    "\n",
    "result = translate(test_input)\n",
    "\n",
    "output_filename = 'submission_' + '_'.join(input_filename.split('_')[1:])\n",
    "with open(f'data/{output_filename}.txt', 'w') as output_file:\n",
    "    output_file.write(result)"
   ]
  },
  {
   "cell_type": "code",
   "execution_count": 72,
   "metadata": {},
   "outputs": [
    {
     "name": "stdout",
     "output_type": "stream",
     "text": [
      "PRTEIN\n",
      "PRTEIN\n",
      "PSTEIN\n",
      "PRTDIN\n"
     ]
    }
   ],
   "source": [
    "for s in ['CCUCGUACAGAAAUCAAC', 'CCGAGGACCGAAAUCAAC', 'CCAAGUACAGAGAUUAAC', 'CCAAGAACAGAUAUCAAU']:\n",
    "    print(translate(s))"
   ]
  },
  {
   "attachments": {},
   "cell_type": "markdown",
   "metadata": {},
   "source": [
    "## Peptide Encoding Problem: Find substrings of a genome encoding a given amino acid sequence.\n",
    "\n",
    "Input: A DNA string Text, an amino acid string Peptide, and the array GeneticCode.  \n",
    "Output: All substrings of Text encoding Peptide (if any such substrings exist).  \n",
    "Code Challenge: Solve the Peptide Encoding Problem. Click here for the RNA codon table corresponding to the array GeneticCode.  \n",
    "\n",
    "Note: The solution may contain repeated strings if the same string occurs more than once as a substring of Text and encodes Peptide.  "
   ]
  },
  {
   "cell_type": "code",
   "execution_count": 5,
   "metadata": {},
   "outputs": [],
   "source": [
    "nucleotide_map = {\n",
    "    \"A\": \"U\",\n",
    "    \"T\": \"A\",\n",
    "    \"G\": \"C\",\n",
    "    \"C\": \"G\"\n",
    "}\n",
    "\n",
    "reverse_nucleotide_map = {\n",
    "    \"U\": \"A\",\n",
    "    \"A\": \"T\",\n",
    "    \"C\": \"G\",\n",
    "    \"G\": \"C\",\n",
    "}\n",
    "\n",
    "def transcribe(nucleotides, reverse=False):\n",
    "    \"\"\"\n",
    "    Transcribes DNA sequence into RNA sequence or vice versa.\n",
    "\n",
    "    Args:\n",
    "        nucleotides (str): DNA or RNA sequence.\n",
    "        reverse (bool): Specifies whether to perform reverse transcription.\n",
    "\n",
    "    Returns:\n",
    "        str: Transcribed sequence.\n",
    "    \"\"\"\n",
    "    if not reverse:\n",
    "        return nucleotides.replace(\"T\", \"U\")\n",
    "    \n",
    "    return \"\".join(nucleotide_map[base] for base in nucleotides[::-1])\n",
    "\n",
    "\n",
    "def reverse_transcribe(nucleotides, reverse=False):\n",
    "    \"\"\"\n",
    "    Reverse transcribes RNA sequence into DNA sequence or vice versa.\n",
    "\n",
    "    Args:\n",
    "        nucleotides (str): RNA or DNA sequence.\n",
    "        reverse (bool): Specifies whether to perform reverse transcription.\n",
    "\n",
    "    Returns:\n",
    "        str: Reverse transcribed sequence.\n",
    "    \"\"\"\n",
    "    if not reverse:\n",
    "        return nucleotides.replace(\"U\", \"T\")\n",
    "    \n",
    "    return \"\".join(reverse_nucleotide_map[base] for base in nucleotides[::-1])\n",
    "\n",
    "\n",
    "def peptide_encoding(nucleotides, expected_peptide):\n",
    "    \"\"\"\n",
    "    Finds all DNA segments that encode a given peptide.\n",
    "\n",
    "    Args:\n",
    "        nucleotides (str): DNA sequence.\n",
    "        expected_peptide (str): Peptide to be encoded.\n",
    "\n",
    "    Returns:\n",
    "        list: List of DNA segments encoding the peptide.\n",
    "    \"\"\"\n",
    "    nucleotide_length = len(expected_peptide) * 3\n",
    "    result = []\n",
    "    rna = transcribe(nucleotides)\n",
    "    complementary_rna = transcribe(nucleotides, reverse=True)\n",
    "\n",
    "    # Check for peptide encoding in the original RNA sequence\n",
    "    for i in range(len(rna) - nucleotide_length):\n",
    "        rna_segment = rna[i: nucleotide_length+i]\n",
    "        peptide = translate(rna_segment)\n",
    "        if peptide == expected_peptide:\n",
    "            result.append(reverse_transcribe(rna_segment))\n",
    "\n",
    "    # Check for peptide encoding in the complementary RNA sequence\n",
    "    for i in range(len(complementary_rna) - nucleotide_length-1, -1, -1):\n",
    "        rna_segment = complementary_rna[i: nucleotide_length+i]\n",
    "        peptide = translate(rna_segment)\n",
    "        if peptide == expected_peptide:\n",
    "            result.append(reverse_transcribe(rna_segment, reverse=True))\n",
    "\n",
    "    return result"
   ]
  },
  {
   "cell_type": "code",
   "execution_count": 6,
   "metadata": {},
   "outputs": [],
   "source": [
    "sample_dna = 'ATGGCCATGGCCCCCAGAACTGAGATCAATAGTACCCGTATTAACGGGTGA'\n",
    "sample_peptide = 'MA'\n",
    "sample_output = [\n",
    "    'ATGGCC',\n",
    "    'GGCCAT',\n",
    "    'ATGGCC',\n",
    "]\n",
    "\n",
    "assert sorted(sample_output) == sorted(peptide_encoding(sample_dna, sample_peptide))"
   ]
  },
  {
   "cell_type": "code",
   "execution_count": 7,
   "metadata": {},
   "outputs": [],
   "source": [
    "input_filename = 'dataset_96_7'\n",
    "with open(f'data/{input_filename}.txt', 'r') as input_file:\n",
    "    test_input = input_file.readlines()\n",
    "\n",
    "dna = test_input[0].strip()\n",
    "peptide = test_input[1].strip()\n",
    "result = peptide_encoding(dna, peptide )\n",
    "\n",
    "output_filename = 'submission_' + '_'.join(input_filename.split('_')[1:])\n",
    "with open(f'data/{output_filename}.txt', 'w') as output_file:\n",
    "    output_file.write('\\n'.join(result))"
   ]
  },
  {
   "attachments": {},
   "cell_type": "markdown",
   "metadata": {},
   "source": [
    "Amino acids typically have non-integer masses (e.g., glycine has total integer mass equal to approximately 57.02 Da); for simplicity, however, we will work with the integer mass table given below. ![](http://bioinformaticsalgorithms.com/images/Antibiotics/integer_mass_table.png)"
   ]
  },
  {
   "cell_type": "code",
   "execution_count": 8,
   "metadata": {},
   "outputs": [],
   "source": [
    "amino_acid_masses = {\n",
    "    \"G\": 57,\n",
    "    \"A\": 71,\n",
    "    \"S\": 87,\n",
    "    \"P\": 97,\n",
    "    \"V\": 99,\n",
    "    \"T\": 101,\n",
    "    \"C\": 103,\n",
    "    \"I\": 113,\n",
    "    \"L\": 113,\n",
    "    \"N\": 114,\n",
    "    \"D\": 115,\n",
    "    \"K\": 128,\n",
    "    \"Q\": 128,\n",
    "    \"E\": 129,\n",
    "    \"M\": 131,\n",
    "    \"H\": 137,\n",
    "    \"F\": 147,\n",
    "    \"R\": 156,\n",
    "    \"Y\": 163,\n",
    "    \"W\": 186,\n",
    "}"
   ]
  },
  {
   "attachments": {},
   "cell_type": "markdown",
   "metadata": {},
   "source": [
    "\n",
    "## The Cyclopeptide Sequencing Problem\n",
    "\n",
    "For now, we will assume for simplicity that the mass spectrometer breaks the copies of a cyclic peptide at every possible two bonds, so that the resulting experimental spectrum contains the masses of all possible linear fragments of the peptide, which are called subpeptides.  \n",
    "\n",
    "**Exercise Break**: How many subpeptides does a cyclic peptide of length n have?"
   ]
  },
  {
   "cell_type": "code",
   "execution_count": 9,
   "metadata": {},
   "outputs": [],
   "source": [
    "from math import factorial\n",
    "\n",
    "def nb_subpeptides(cyclopeptide_length, k=2):\n",
    "    \"\"\"\n",
    "    Calculates the number of subpeptides of a cyclopeptide.\n",
    "\n",
    "    Args:\n",
    "        cyclopeptide_length (int): Length of the cyclopeptide.\n",
    "        k (int): Length of subpeptides. Default is 2.\n",
    "\n",
    "    Returns:\n",
    "        int: Number of subpeptides.\n",
    "    \"\"\"\n",
    "    n = cyclopeptide_length\n",
    "\n",
    "    # Calculate the binomial coefficient\n",
    "    binomial_coeff = factorial(n) / (factorial(k) * factorial(n - k))\n",
    "\n",
    "    # Calculate the number of subpeptides\n",
    "    num_subpeptides = int(k * binomial_coeff)\n",
    "\n",
    "    return num_subpeptides"
   ]
  },
  {
   "cell_type": "code",
   "execution_count": 10,
   "metadata": {},
   "outputs": [],
   "source": [
    "sample_input = 31315\n",
    "sample_output = 980597910\n",
    "\n",
    "assert nb_subpeptides(sample_input) == sample_output"
   ]
  },
  {
   "cell_type": "code",
   "execution_count": 11,
   "metadata": {},
   "outputs": [
    {
     "data": {
      "text/plain": [
       "586245156"
      ]
     },
     "execution_count": 11,
     "metadata": {},
     "output_type": "execute_result"
    }
   ],
   "source": [
    "nb_subpeptides(24213)"
   ]
  },
  {
   "attachments": {},
   "cell_type": "markdown",
   "metadata": {},
   "source": [
    "## Generating Theoretical Spectrum Problem: Generate the theoretical spectrum of a cyclic peptide.\n",
    "\n",
    "The theoretical spectrum of a cyclic peptide Peptide, denoted Cyclospectrum(Peptide), is the collection of all of the masses of its subpeptides, in addition to the mass 0 and the mass of the entire peptide, with masses ordered from smallest to largest.\n",
    "\n",
    "Input: An amino acid string Peptide.  \n",
    "Output: Cyclospectrum(Peptide).  \n",
    "Code Challenge: Solve the Generating Theoretical Spectrum Problem.  "
   ]
  },
  {
   "cell_type": "code",
   "execution_count": 50,
   "metadata": {},
   "outputs": [],
   "source": [
    "from collections import deque\n",
    "\n",
    "def cyclospectrum(peptide, masses=amino_acid_masses):\n",
    "    \"\"\"\n",
    "    Generates the cyclic spectrum of a peptide.\n",
    "\n",
    "    Args:\n",
    "        masses (list): List of integer masses representing the peptide.\n",
    "\n",
    "    Returns:\n",
    "        list: Cyclic spectrum of the peptide.\n",
    "    \"\"\"\n",
    "    masses = [int(amino_acid_masses[aa]) for aa in peptide]  # Convert masses to integers\n",
    "    spectrum = [0]\n",
    "    spectrum.extend(mass for i in range(len(masses)) for mass in accumulate_masses(masses, i))\n",
    "    spectrum.append(sum(masses))\n",
    "    return sorted(spectrum)\n",
    "\n",
    "def accumulate_masses(masses, index):\n",
    "    \"\"\"\n",
    "    Accumulates masses starting from the given index in a cyclic manner.\n",
    "\n",
    "    Args:\n",
    "        masses (list): List of integer masses representing the peptide.\n",
    "        index (int): Starting index for accumulation.\n",
    "\n",
    "    Yields:\n",
    "        int: Accumulated mass.\n",
    "    \"\"\"\n",
    "    size = len(masses)\n",
    "    accumulated_mass = 0\n",
    "    for i in range(size - 1):\n",
    "        accumulated_mass += masses[(index + i) % size]\n",
    "        yield accumulated_mass"
   ]
  },
  {
   "cell_type": "code",
   "execution_count": 51,
   "metadata": {},
   "outputs": [],
   "source": [
    "sample_input = 'LEQN'\n",
    "sample_output = '0 113 114 128 129 227 242 242 257 355 356 370 371 484'\n",
    "# peptide_mass= [amino_acid_masses[aa] for aa in sample_input]\n",
    "sample_result = cyclospectrum(sample_input)\n",
    "assert \" \".join([str(v) for v in sample_result]) == sample_output"
   ]
  },
  {
   "cell_type": "code",
   "execution_count": 53,
   "metadata": {},
   "outputs": [
    {
     "name": "stdout",
     "output_type": "stream",
     "text": [
      "0 101 113 114 115 129 131 131 137 137 147 156 186 232 244 250 251 251 257 260 260 262 293 301 333 363 364 375 388 388 391 394 397 407 430 446 448 492 501 506 508 511 519 525 544 561 561 577 583 607 639 645 648 648 656 657 690 692 697 698 708 758 763 770 776 785 793 804 812 821 827 834 839 889 899 900 905 907 940 941 949 949 952 958 990 1014 1020 1036 1036 1053 1072 1078 1086 1089 1091 1096 1105 1149 1151 1167 1190 1200 1203 1206 1209 1209 1222 1233 1234 1264 1296 1304 1335 1337 1337 1340 1346 1346 1347 1353 1365 1411 1441 1450 1460 1460 1466 1466 1468 1482 1483 1484 1496 1597\n"
     ]
    }
   ],
   "source": [
    "challenge_input = 'MEDWFIHNHRTM'\n",
    "# peptide_mass= [amino_acid_masses[aa] for aa in challenge_input]\n",
    "result = cyclospectrum(challenge_input)\n",
    "print(\" \".join([str(v) for v in result]))"
   ]
  },
  {
   "cell_type": "code",
   "execution_count": 79,
   "metadata": {},
   "outputs": [
    {
     "name": "stdout",
     "output_type": "stream",
     "text": [
      "False\n",
      "False\n",
      "True\n",
      "False\n",
      "False\n",
      "True\n"
     ]
    }
   ],
   "source": [
    "for s in ['TMLA', 'TMIA', 'TLAM', 'MTAI', 'TAIM', 'MAIT']:\n",
    "    result = [0, 71, 101, 113, 131, 184, 202, 214, 232, 285, 303, 315, 345, 416]\n",
    "    print(cyclospectrum(s) == result)"
   ]
  },
  {
   "attachments": {},
   "cell_type": "markdown",
   "metadata": {},
   "source": [
    "## Counting Peptides with Given Mass Problem: Compute the number of peptides of given mass.\n",
    "\n",
    "Input: An integer m.  \n",
    "Output: The number of linear peptides having integer mass m."
   ]
  },
  {
   "cell_type": "code",
   "execution_count": 15,
   "metadata": {},
   "outputs": [],
   "source": [
    "from collections import defaultdict\n",
    "\n",
    "def nb_linear_peptides(parent_mass):\n",
    "    \"\"\"\n",
    "    Count the number of linear peptides with a given parent mass.\n",
    "\n",
    "    Args:\n",
    "        parent_mass (int): The parent mass.\n",
    "\n",
    "    Returns:\n",
    "        int: The number of linear peptides with the given parent mass.\n",
    "    \"\"\"\n",
    "    masses = set(amino_acid_masses.values())  # Set of possible masses\n",
    "    to_expand = [(0, [])]  # Stack to store current mass and history of masses\n",
    "    nb_wins = 0  # Number of wins (peptides with parent mass)\n",
    "    losers = set()  # Set of losing masses (greater than parent mass)\n",
    "    winners = set()  # Set of winning masses (equal to parent mass)\n",
    "\n",
    "    while to_expand:\n",
    "        current, history = to_expand.pop()\n",
    "        if current in winners:\n",
    "            nb_wins += 1\n",
    "            continue\n",
    "        for mass in masses:\n",
    "            new = current + mass\n",
    "            if new in losers:\n",
    "                continue\n",
    "            if new in winners:\n",
    "                nb_wins += 1\n",
    "                continue\n",
    "            if new == parent_mass:\n",
    "                nb_wins += 1\n",
    "                winners.update(history + [current])\n",
    "                continue\n",
    "            if new < parent_mass:\n",
    "                to_expand.append((new, history + [current]))\n",
    "                continue\n",
    "            losers.add(new)\n",
    "\n",
    "    return nb_wins"
   ]
  },
  {
   "cell_type": "code",
   "execution_count": 17,
   "metadata": {},
   "outputs": [],
   "source": [
    "sample_input = 1024\n",
    "sample_output = 14712706211"
   ]
  },
  {
   "cell_type": "code",
   "execution_count": 22,
   "metadata": {},
   "outputs": [],
   "source": [
    "# sample_result = nb_linear_peptides(sample_input)\n",
    "# assert sample_result == sample_output\n",
    "# sample_result"
   ]
  },
  {
   "attachments": {},
   "cell_type": "markdown",
   "metadata": {},
   "source": [
    "## Exercise Break: How many subpeptides does a linear peptide of given length n have? (Include the empty peptide and the entire peptide.)\n",
    "\n",
    "Input: An integer n.  \n",
    "Output: The number of subpeptides of a linear peptide of length n."
   ]
  },
  {
   "cell_type": "code",
   "execution_count": 33,
   "metadata": {},
   "outputs": [],
   "source": [
    "def linear_subpeptide_count(x):\n",
    "    \"\"\"\n",
    "    Count the number of linear subpeptides in a peptide of length x.\n",
    "\n",
    "    Args:\n",
    "        x (int): Length of the peptide.\n",
    "\n",
    "    Returns:\n",
    "        int: The number of linear subpeptides.\n",
    "    \"\"\"\n",
    "    result = 0\n",
    "\n",
    "    # Iterate from 1 to x (inclusive)\n",
    "    for i in range(1, x+1):\n",
    "        if i <= 2:\n",
    "            result += 2  # Add 2 for subpeptides of length 1 or 2\n",
    "        else:\n",
    "            result += i  # Add i for subpeptides of length greater than 2\n",
    "\n",
    "    return result"
   ]
  },
  {
   "cell_type": "code",
   "execution_count": 35,
   "metadata": {},
   "outputs": [
    {
     "data": {
      "text/plain": [
       "11"
      ]
     },
     "execution_count": 35,
     "metadata": {},
     "output_type": "execute_result"
    }
   ],
   "source": [
    "linear_subpeptide_count(4)"
   ]
  },
  {
   "cell_type": "code",
   "execution_count": 34,
   "metadata": {},
   "outputs": [
    {
     "data": {
      "text/plain": [
       "347517067"
      ]
     },
     "execution_count": 34,
     "metadata": {},
     "output_type": "execute_result"
    }
   ],
   "source": [
    "linear_subpeptide_count(26363)"
   ]
  },
  {
   "attachments": {},
   "cell_type": "markdown",
   "metadata": {},
   "source": [
    "## Code Challenge: Implement LinearSpectrum.\n",
    "\n",
    "Input: An amino acid string Peptide.  \n",
    "Output: The linear spectrum of Peptide.\n",
    "\n",
    "```\n",
    "LinearSpectrum(Peptide, Alphabet, AminoAcidMass)\n",
    "    PrefixMass(0) ← 0\n",
    "    for i ← 1 to |Peptide|\n",
    "        for every symbol s in Alphabet\n",
    "            if s = i-th amino acid in Peptide\n",
    "                PrefixMass(i) ← PrefixMass(i − 1) + AminoAcidMass[s]\n",
    "    LinearSpectrum ← a list consisting of the single integer 0\n",
    "    for i ← 0 to |Peptide| − 1\n",
    "        for j ← i + 1 to |Peptide|\n",
    "            add PrefixMass(j) − PrefixMass(i) to LinearSpectrum\n",
    "    return sorted list LinearSpectrum\n",
    "```"
   ]
  },
  {
   "cell_type": "code",
   "execution_count": 67,
   "metadata": {},
   "outputs": [],
   "source": [
    "def linear_spectrum(peptide):\n",
    "    \"\"\"\n",
    "    Calculate the linear spectrum of a peptide.\n",
    "\n",
    "    Args:\n",
    "        peptide (str): The peptide sequence.\n",
    "\n",
    "    Returns:\n",
    "        list: The linear spectrum of the peptide.\n",
    "    \"\"\"\n",
    "    prefix_mass = [0] * (len(peptide) + 1)\n",
    "\n",
    "    # Calculate the prefix mass for each prefix of the peptide\n",
    "    for i, aa in enumerate(peptide):\n",
    "        prefix_mass[i+1] = prefix_mass[i] + amino_acid_masses[aa]\n",
    "    \n",
    "    linear_spectrum = [0]\n",
    "    \n",
    "    # Calculate the differences between prefix masses to obtain the linear spectrum\n",
    "    for i in range(len(prefix_mass)):\n",
    "        for j in range(i+1, len(prefix_mass)):\n",
    "            linear_spectrum.append(prefix_mass[j] - prefix_mass[i])\n",
    "\n",
    "    linear_spectrum.sort()\n",
    "    return linear_spectrum"
   ]
  },
  {
   "cell_type": "code",
   "execution_count": 69,
   "metadata": {},
   "outputs": [],
   "source": [
    "sample_input = \"NQEL\"\n",
    "sample_output = [0, 113, 114, 128, 129, 242, 242, 257, 370, 371, 484]\n",
    "sample_result = linear_spectrum(sample_input)\n",
    "assert sample_result == sample_output"
   ]
  },
  {
   "cell_type": "code",
   "execution_count": 71,
   "metadata": {},
   "outputs": [
    {
     "name": "stdout",
     "output_type": "stream",
     "text": [
      "0 57 57 57 57 71 71 97 97 97 97 97 97 99 99 99 99 99 101 101 103 113 113 113 114 115 115 128 128 128 129 129 131 131 137 137 137 137 137 147 147 154 154 154 156 156 156 163 163 163 163 163 170 170 172 172 186 186 186 196 200 200 211 214 214 214 227 228 229 234 234 234 234 236 242 243 244 246 250 252 253 255 259 259 260 262 262 262 266 267 267 269 275 276 276 285 285 287 291 291 294 300 301 303 309 313 314 323 329 331 331 333 333 333 333 339 342 342 347 349 349 351 351 356 356 357 358 359 361 365 365 367 372 375 383 388 388 389 399 402 404 404 406 406 407 415 415 416 422 422 422 425 428 429 430 430 432 432 432 441 443 445 448 448 450 460 460 464 470 472 477 478 479 485 486 486 486 494 495 496 496 501 501 503 514 514 517 519 519 521 521 528 528 529 531 535 535 538 542 543 544 547 547 553 557 558 558 561 565 567 567 569 569 571 576 578 579 583 592 592 595 595 597 598 602 607 611 616 616 618 632 633 633 634 640 641 642 646 646 650 658 663 664 664 665 666 668 668 670 671 672 677 678 681 684 689 691 691 692 694 694 698 698 700 707 708 710 713 716 717 721 721 729 731 732 732 739 745 745 748 753 755 761 762 763 763 764 765 779 779 781 788 790 793 795 795 795 796 797 800 801 805 807 809 815 816 820 826 828 829 834 834 836 842 844 846 847 847 847 850 850 850 852 854 860 860 862 863 877 882 892 893 894 895 899 901 902 904 907 908 908 911 912 923 925 925 926 932 933 943 944 945 946 949 951 951 953 956 958 959 962 963 964 965 976 977 979 979 980 983 997 997 1001 1005 1007 1008 1014 1014 1014 1019 1022 1022 1023 1029 1033 1036 1040 1048 1048 1049 1050 1055 1056 1057 1061 1062 1064 1065 1074 1076 1077 1078 1079 1081 1082 1086 1088 1093 1093 1093 1096 1096 1096 1104 1110 1111 1112 1116 1118 1128 1130 1134 1135 1136 1148 1149 1151 1151 1154 1154 1161 1162 1170 1173 1177 1177 1178 1179 1185 1185 1185 1192 1192 1193 1199 1208 1209 1211 1211 1211 1213 1215 1222 1227 1231 1235 1241 1242 1242 1248 1249 1251 1256 1256 1259 1263 1265 1267 1267 1276 1276 1278 1282 1282 1283 1290 1291 1299 1310 1310 1310 1310 1310 1312 1314 1314 1324 1324 1339 1339 1340 1348 1355 1355 1355 1362 1362 1362 1364 1364 1368 1371 1378 1378 1379 1380 1381 1385 1388 1390 1390 1391 1396 1407 1407 1409 1413 1413 1421 1421 1423 1425 1427 1437 1437 1437 1438 1439 1441 1442 1447 1449 1452 1453 1454 1465 1477 1487 1490 1493 1493 1494 1496 1505 1506 1508 1509 1510 1511 1518 1518 1518 1522 1524 1524 1525 1534 1534 1541 1544 1544 1550 1552 1553 1560 1564 1566 1571 1572 1574 1576 1576 1576 1578 1579 1581 1591 1595 1602 1604 1609 1610 1615 1617 1621 1621 1624 1635 1637 1643 1643 1647 1647 1649 1652 1657 1661 1665 1669 1671 1671 1673 1675 1688 1689 1693 1694 1697 1701 1706 1708 1709 1718 1720 1727 1728 1728 1729 1732 1739 1739 1746 1746 1746 1750 1751 1756 1758 1758 1768 1772 1773 1777 1787 1789 1793 1794 1796 1798 1806 1806 1810 1824 1825 1825 1829 1838 1838 1841 1843 1843 1847 1848 1852 1857 1857 1857 1860 1861 1864 1865 1874 1874 1876 1876 1881 1882 1886 1897 1902 1907 1909 1909 1909 1919 1921 1922 1928 1935 1938 1940 1943 1951 1959 1960 1973 1973 1975 1978 1978 1980 1985 1988 1988 1993 1994 1995 1997 2001 2004 2004 2004 2006 2008 2008 2011 2020 2024 2032 2036 2048 2056 2058 2060 2062 2072 2072 2075 2077 2087 2088 2091 2101 2105 2105 2107 2107 2110 2110 2115 2116 2122 2123 2123 2125 2129 2133 2134 2135 2138 2143 2148 2157 2158 2160 2163 2171 2171 2171 2185 2187 2202 2204 2212 2215 2218 2222 2222 2225 2228 2228 2232 2235 2236 2240 2242 2242 2243 2247 2253 2263 2263 2270 2272 2273 2284 2285 2286 2289 2289 2297 2315 2319 2324 2324 2325 2329 2333 2334 2334 2339 2339 2339 2341 2343 2350 2359 2360 2360 2362 2367 2369 2371 2385 2392 2396 2399 2400 2400 2404 2410 2410 2416 2417 2421 2426 2426 2429 2436 2438 2456 2457 2459 2461 2463 2464 2464 2471 2472 2476 2487 2489 2493 2497 2497 2498 2509 2516 2518 2520 2525 2530 2532 2532 2541 2553 2554 2555 2555 2557 2558 2561 2573 2573 2573 2575 2586 2592 2600 2601 2606 2615 2620 2626 2630 2631 2634 2643 2644 2645 2652 2654 2657 2658 2669 2672 2672 2672 2683 2688 2690 2698 2701 2701 2702 2704 2704 2714 2717 2723 2725 2729 2740 2743 2749 2755 2768 2769 2772 2787 2787 2789 2799 2801 2801 2803 2805 2806 2811 2815 2817 2820 2820 2820 2829 2832 2842 2844 2854 2854 2858 2858 2886 2886 2886 2887 2888 2900 2902 2903 2906 2912 2924 2930 2931 2931 2935 2936 2943 2943 2955 2957 2957 2957 2959 2967 2973 2983 2983 2985 2987 2992 3001 3005 3015 3017 3028 3030 3033 3037 3040 3050 3056 3058 3068 3070 3072 3074 3082 3084 3087 3089 3090 3092 3110 3120 3120 3127 3129 3129 3130 3136 3139 3148 3155 3165 3171 3178 3186 3187 3189 3196 3203 3211 3219 3219 3221 3226 3226 3233 3236 3242 3245 3246 3251 3261 3264 3264 3273 3283 3284 3292 3292 3299 3318 3318 3332 3334 3350 3358 3359 3363 3364 3366 3372 3373 3374 3375 3379 3382 3382 3389 3389 3405 3415 3415 3420 3421 3433 3446 3462 3469 3473 3478 3478 3478 3485 3488 3495 3495 3497 3501 3504 3512 3518 3519 3522 3545 3552 3552 3559 3561 3570 3575 3575 3577 3596 3606 3608 3615 3625 3634 3648 3648 3649 3649 3649 3651 3653 3665 3667 3688 3705 3706 3707 3709 3712 3722 3724 3724 3731 3733 3746 3747 3762 3766 3780 3781 3782 3786 3803 3806 3811 3819 3820 3834 3837 3837 3851 3853 3863 3868 3880 3880 3883 3894 3899 3910 3910 3910 3916 3919 3921 3934 3940 3971 3981 3982 3982 3991 3996 3997 4000 4009 4020 4023 4036 4053 4053 4066 4071 4073 4079 4080 4080 4096 4097 4110 4113 4128 4134 4154 4165 4166 4167 4168 4177 4186 4209 4210 4216 4222 4225 4225 4233 4236 4241 4243 4259 4267 4282 4314 4323 4329 4338 4338 4340 4340 4347 4351 4365 4372 4395 4396 4411 4422 4429 4430 4437 4452 4460 4468 4475 4477 4496 4501 4509 4523 4526 4551 4558 4561 4566 4574 4574 4581 4588 4593 4631 4632 4652 4663 4663 4682 4687 4689 4689 4730 4744 4744 4760 4760 4779 4783 4788 4800 4817 4817 4843 4859 4875 4880 4897 4907 4916 4916 4930 4944 4954 5003 5015 5017 5029 5038 5067 5072 5093 5102 5130 5130 5166 5201 5224 5230 5231 5258 5258 5265 5302 5352 5359 5361 5421 5444 5451 5489 5545 5588 5607 5607 5708 5744 5793 5894 5930 6031\n"
     ]
    }
   ],
   "source": [
    "challenge_input = 'HWYWGATLHPMEAERFVDVHPVYHDGPFKNPRCYVYIGPHPGLYMQVRWT'\n",
    "print(' '.join([str(i) for i in linear_spectrum(challenge_input)]))"
   ]
  },
  {
   "attachments": {},
   "cell_type": "markdown",
   "metadata": {},
   "source": [
    "## Code Challenge: Implement CyclopeptideSequencing.\n",
    "\n",
    "```\n",
    "CyclopeptideSequencing(Spectrum)\n",
    "    CandidatePeptides ← a set containing only the empty peptide FinalPeptides ← empty list of strings\n",
    "    while CandidatePeptides is nonempty\n",
    "        CandidatePeptides ← Expand(CandidatePeptides)\n",
    "        for each peptide Peptide in CandidatePeptides\n",
    "            if Mass(Peptide) = ParentMass(Spectrum)\n",
    "                if Cyclospectrum(Peptide) = Spectrum and Peptide is not in FinalPeptides\n",
    "                    append Peptide to FinalPeptides\n",
    "                remove Peptide from CandidatePeptides\n",
    "            else if Peptide is not consistent with Spectrum\n",
    "                remove Peptide from CandidatePeptides\n",
    "    return FinalPeptides\n",
    "```"
   ]
  },
  {
   "cell_type": "code",
   "execution_count": 60,
   "metadata": {},
   "outputs": [],
   "source": [
    "masses = list(set(amino_acid_masses.values()))\n",
    "aa = list(amino_acid_masses.keys())\n",
    "\n",
    "def cyclopeptide_sequencing(spectrum):\n",
    "    \"\"\"\n",
    "    Find all possible cyclopeptides that match a given spectrum.\n",
    "\n",
    "    Args:\n",
    "        spectrum (list): The target spectrum.\n",
    "\n",
    "    Returns:\n",
    "        list: List of cyclopeptides matching the spectrum.\n",
    "    \"\"\"\n",
    "    final_peptides = []\n",
    "    candidate_subpeptides = ['']\n",
    "    parent_mass = parent_mass_from_spectrum(spectrum)\n",
    "\n",
    "    while len(candidate_subpeptides):\n",
    "        candidate_subpeptides = expand(candidate_subpeptides)\n",
    "\n",
    "        for i, peptide in enumerate(candidate_subpeptides):\n",
    "            if peptide in final_peptides:\n",
    "                continue\n",
    "\n",
    "            if mass(peptide) == parent_mass:\n",
    "                if cyclospectrum(peptide) == spectrum:\n",
    "                    final_peptides.append(peptide)\n",
    "                else:\n",
    "                    candidate_subpeptides[i] = ''\n",
    "            elif not is_consistent(peptide, spectrum):\n",
    "                candidate_subpeptides[i] = ''\n",
    "\n",
    "        candidate_subpeptides = list(filter(lambda x: x != '', candidate_subpeptides))\n",
    "\n",
    "    return final_peptides\n",
    "\n",
    "\n",
    "def expand(peptides):\n",
    "    \"\"\"\n",
    "    Expand the list of peptides by adding all possible amino acids to each peptide.\n",
    "\n",
    "    Args:\n",
    "        peptides (list): List of peptides.\n",
    "\n",
    "    Returns:\n",
    "        list: Expanded list of peptides.\n",
    "    \"\"\"\n",
    "    new_peptides = []\n",
    "    for peptide in peptides:\n",
    "        for amino_acid in aa:\n",
    "            new_peptides.append(peptide + amino_acid)\n",
    "    return new_peptides\n",
    "\n",
    "\n",
    "def mass(peptide):\n",
    "    \"\"\"\n",
    "    Calculate the mass of a peptide.\n",
    "\n",
    "    Args:\n",
    "        peptide (str): The peptide sequence.\n",
    "\n",
    "    Returns:\n",
    "        int: The mass of the peptide.\n",
    "    \"\"\"\n",
    "    return sum(amino_acid_masses[aa] for aa in peptide)\n",
    "\n",
    "\n",
    "def parent_mass_from_spectrum(spectrum):\n",
    "    \"\"\"\n",
    "    Calculate the parent mass from a spectrum.\n",
    "\n",
    "    Args:\n",
    "        spectrum (list): The spectrum.\n",
    "\n",
    "    Returns:\n",
    "        int: The parent mass.\n",
    "    \"\"\"\n",
    "    return max(spectrum)\n",
    "\n",
    "def is_consistent(peptide, spectrum):\n",
    "    \"\"\"\n",
    "    Check if a peptide is consistent with a spectrum.\n",
    "\n",
    "    Args:\n",
    "        peptide (str): The peptide sequence.\n",
    "        spectrum (list): The spectrum.\n",
    "\n",
    "    Returns:\n",
    "        bool: True if the peptide is consistent with the spectrum, False otherwise.\n",
    "    \"\"\"\n",
    "    ls = linear_spectrum(peptide)\n",
    "    for mass in ls:\n",
    "        if mass not in spectrum:\n",
    "            return False\n",
    "    return True\n",
    "\n",
    "def display_cyclopeptide_seq(seq, masses=amino_acid_masses):\n",
    "    \"\"\"\n",
    "    Display the cyclopeptide sequence as a string of masses.\n",
    "\n",
    "    Args:\n",
    "        seq (list): The cyclopeptide sequence.\n",
    "        masses (dict): Dictionary mapping amino acids to their masses.\n",
    "\n",
    "    Returns:\n",
    "        str: The cyclopeptide sequence represented as a string of masses.\n",
    "    \"\"\"\n",
    "    result_as_masses = {}\n",
    "\n",
    "    # Convert each result in the sequence to a string of masses\n",
    "    for result in seq:\n",
    "        mass = \"-\".join(str(masses[aa]) for aa in result)\n",
    "        result_as_masses[mass] = True\n",
    "\n",
    "    # Join the unique masses and return as a string\n",
    "    return \" \".join(result_as_masses.keys())"
   ]
  },
  {
   "cell_type": "code",
   "execution_count": 65,
   "metadata": {},
   "outputs": [],
   "source": [
    "sample_input = '0 113 128 186 241 299 314 427'\n",
    "sample_output = '186-128-113 186-113-128 128-186-113 128-113-186 113-186-128 113-128-186'\n",
    "\n",
    "sample_spectrum = [int(mass) for mass in sample_input.split()]\n",
    "sample_result = display_cyclopeptide_seq(cyclopeptide_sequencing(sample_spectrum))\n",
    "\n",
    "assert sorted(sample_result.split(' ')) == sorted(sample_output.split(' '))"
   ]
  },
  {
   "cell_type": "code",
   "execution_count": 66,
   "metadata": {},
   "outputs": [
    {
     "name": "stdout",
     "output_type": "stream",
     "text": [
      "71-71-103-128-147-113-97-103-113 71-71-113-103-97-113-147-128-103 71-103-128-147-113-97-103-113-71 71-113-103-97-113-147-128-103-71 97-103-113-71-71-103-128-147-113 97-113-147-128-103-71-71-113-103 103-71-71-113-103-97-113-147-128 103-97-113-147-128-103-71-71-113 103-113-71-71-103-128-147-113-97 103-128-147-113-97-103-113-71-71 113-71-71-103-128-147-113-97-103 113-97-103-113-71-71-103-128-147 113-103-97-113-147-128-103-71-71 113-147-128-103-71-71-113-103-97 128-103-71-71-113-103-97-113-147 128-147-113-97-103-113-71-71-103 147-113-97-103-113-71-71-103-128 147-128-103-71-71-113-103-97-113\n"
     ]
    }
   ],
   "source": [
    "challenge_input = '0 71 71 97 103 103 113 113 128 142 147 174 184 200 210 216 231 245 255 260 275 287 302 313 313 357 358 358 373 378 384 388 426 449 455 460 461 485 486 491 497 520 558 562 568 573 588 588 589 633 633 644 659 671 686 691 701 715 730 736 746 762 772 799 804 818 833 833 843 843 849 875 875 946'\n",
    "challenge_spectrum = [int(mass) for mass in challenge_input.split()]\n",
    "challenge_result = display_cyclopeptide_seq(cyclopeptide_sequencing(challenge_spectrum))\n",
    "print(challenge_result)"
   ]
  },
  {
   "cell_type": "code",
   "execution_count": 84,
   "metadata": {},
   "outputs": [
    {
     "name": "stdout",
     "output_type": "stream",
     "text": [
      "False\n",
      "False\n",
      "True\n",
      "True\n",
      "True\n",
      "False\n"
     ]
    }
   ],
   "source": [
    "for s in ['QCV', 'TCE', 'CTV', 'AQV', 'TCQ', 'VAQ']:\n",
    "    spectrum = [0, 71, 99, 101, 103, 128, 129, 199, 200, 204, 227, 230, 231, 298, 303, 328, 330, 332, 333]\n",
    "    print(is_consistent(s, spectrum))"
   ]
  }
 ],
 "metadata": {
  "kernelspec": {
   "display_name": "base",
   "language": "python",
   "name": "python3"
  },
  "language_info": {
   "codemirror_mode": {
    "name": "ipython",
    "version": 3
   },
   "file_extension": ".py",
   "mimetype": "text/x-python",
   "name": "python",
   "nbconvert_exporter": "python",
   "pygments_lexer": "ipython3",
   "version": "3.9.12"
  },
  "orig_nbformat": 4
 },
 "nbformat": 4,
 "nbformat_minor": 2
}
