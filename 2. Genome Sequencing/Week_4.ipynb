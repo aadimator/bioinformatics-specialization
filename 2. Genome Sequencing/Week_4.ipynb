{
 "cells": [
  {
   "cell_type": "code",
   "execution_count": 33,
   "metadata": {},
   "outputs": [
    {
     "name": "stdout",
     "output_type": "stream",
     "text": [
      "PRTEIN\n",
      "PRTEIN\n",
      "PSTEIN\n",
      "PRTDIN\n",
      "0 101 113 114 115 129 131 131 137 137 147 156 186 232 244 250 251 251 257 260 260 262 293 301 333 363 364 375 388 388 391 394 397 407 430 446 448 492 501 506 508 511 519 525 544 561 561 577 583 607 639 645 648 648 656 657 690 692 697 698 708 758 763 770 776 785 793 804 812 821 827 834 839 889 899 900 905 907 940 941 949 949 952 958 990 1014 1020 1036 1036 1053 1072 1078 1086 1089 1091 1096 1105 1149 1151 1167 1190 1200 1203 1206 1209 1209 1222 1233 1234 1264 1296 1304 1335 1337 1337 1340 1346 1346 1347 1353 1365 1411 1441 1450 1460 1460 1466 1466 1468 1482 1483 1484 1496 1597\n",
      "False\n",
      "False\n",
      "True\n",
      "False\n",
      "False\n",
      "True\n",
      "0 57 57 57 57 71 71 97 97 97 97 97 97 99 99 99 99 99 101 101 103 113 113 113 114 115 115 128 128 128 129 129 131 131 137 137 137 137 137 147 147 154 154 154 156 156 156 163 163 163 163 163 170 170 172 172 186 186 186 196 200 200 211 214 214 214 227 228 229 234 234 234 234 236 242 243 244 246 250 252 253 255 259 259 260 262 262 262 266 267 267 269 275 276 276 285 285 287 291 291 294 300 301 303 309 313 314 323 329 331 331 333 333 333 333 339 342 342 347 349 349 351 351 356 356 357 358 359 361 365 365 367 372 375 383 388 388 389 399 402 404 404 406 406 407 415 415 416 422 422 422 425 428 429 430 430 432 432 432 441 443 445 448 448 450 460 460 464 470 472 477 478 479 485 486 486 486 494 495 496 496 501 501 503 514 514 517 519 519 521 521 528 528 529 531 535 535 538 542 543 544 547 547 553 557 558 558 561 565 567 567 569 569 571 576 578 579 583 592 592 595 595 597 598 602 607 611 616 616 618 632 633 633 634 640 641 642 646 646 650 658 663 664 664 665 666 668 668 670 671 672 677 678 681 684 689 691 691 692 694 694 698 698 700 707 708 710 713 716 717 721 721 729 731 732 732 739 745 745 748 753 755 761 762 763 763 764 765 779 779 781 788 790 793 795 795 795 796 797 800 801 805 807 809 815 816 820 826 828 829 834 834 836 842 844 846 847 847 847 850 850 850 852 854 860 860 862 863 877 882 892 893 894 895 899 901 902 904 907 908 908 911 912 923 925 925 926 932 933 943 944 945 946 949 951 951 953 956 958 959 962 963 964 965 976 977 979 979 980 983 997 997 1001 1005 1007 1008 1014 1014 1014 1019 1022 1022 1023 1029 1033 1036 1040 1048 1048 1049 1050 1055 1056 1057 1061 1062 1064 1065 1074 1076 1077 1078 1079 1081 1082 1086 1088 1093 1093 1093 1096 1096 1096 1104 1110 1111 1112 1116 1118 1128 1130 1134 1135 1136 1148 1149 1151 1151 1154 1154 1161 1162 1170 1173 1177 1177 1178 1179 1185 1185 1185 1192 1192 1193 1199 1208 1209 1211 1211 1211 1213 1215 1222 1227 1231 1235 1241 1242 1242 1248 1249 1251 1256 1256 1259 1263 1265 1267 1267 1276 1276 1278 1282 1282 1283 1290 1291 1299 1310 1310 1310 1310 1310 1312 1314 1314 1324 1324 1339 1339 1340 1348 1355 1355 1355 1362 1362 1362 1364 1364 1368 1371 1378 1378 1379 1380 1381 1385 1388 1390 1390 1391 1396 1407 1407 1409 1413 1413 1421 1421 1423 1425 1427 1437 1437 1437 1438 1439 1441 1442 1447 1449 1452 1453 1454 1465 1477 1487 1490 1493 1493 1494 1496 1505 1506 1508 1509 1510 1511 1518 1518 1518 1522 1524 1524 1525 1534 1534 1541 1544 1544 1550 1552 1553 1560 1564 1566 1571 1572 1574 1576 1576 1576 1578 1579 1581 1591 1595 1602 1604 1609 1610 1615 1617 1621 1621 1624 1635 1637 1643 1643 1647 1647 1649 1652 1657 1661 1665 1669 1671 1671 1673 1675 1688 1689 1693 1694 1697 1701 1706 1708 1709 1718 1720 1727 1728 1728 1729 1732 1739 1739 1746 1746 1746 1750 1751 1756 1758 1758 1768 1772 1773 1777 1787 1789 1793 1794 1796 1798 1806 1806 1810 1824 1825 1825 1829 1838 1838 1841 1843 1843 1847 1848 1852 1857 1857 1857 1860 1861 1864 1865 1874 1874 1876 1876 1881 1882 1886 1897 1902 1907 1909 1909 1909 1919 1921 1922 1928 1935 1938 1940 1943 1951 1959 1960 1973 1973 1975 1978 1978 1980 1985 1988 1988 1993 1994 1995 1997 2001 2004 2004 2004 2006 2008 2008 2011 2020 2024 2032 2036 2048 2056 2058 2060 2062 2072 2072 2075 2077 2087 2088 2091 2101 2105 2105 2107 2107 2110 2110 2115 2116 2122 2123 2123 2125 2129 2133 2134 2135 2138 2143 2148 2157 2158 2160 2163 2171 2171 2171 2185 2187 2202 2204 2212 2215 2218 2222 2222 2225 2228 2228 2232 2235 2236 2240 2242 2242 2243 2247 2253 2263 2263 2270 2272 2273 2284 2285 2286 2289 2289 2297 2315 2319 2324 2324 2325 2329 2333 2334 2334 2339 2339 2339 2341 2343 2350 2359 2360 2360 2362 2367 2369 2371 2385 2392 2396 2399 2400 2400 2404 2410 2410 2416 2417 2421 2426 2426 2429 2436 2438 2456 2457 2459 2461 2463 2464 2464 2471 2472 2476 2487 2489 2493 2497 2497 2498 2509 2516 2518 2520 2525 2530 2532 2532 2541 2553 2554 2555 2555 2557 2558 2561 2573 2573 2573 2575 2586 2592 2600 2601 2606 2615 2620 2626 2630 2631 2634 2643 2644 2645 2652 2654 2657 2658 2669 2672 2672 2672 2683 2688 2690 2698 2701 2701 2702 2704 2704 2714 2717 2723 2725 2729 2740 2743 2749 2755 2768 2769 2772 2787 2787 2789 2799 2801 2801 2803 2805 2806 2811 2815 2817 2820 2820 2820 2829 2832 2842 2844 2854 2854 2858 2858 2886 2886 2886 2887 2888 2900 2902 2903 2906 2912 2924 2930 2931 2931 2935 2936 2943 2943 2955 2957 2957 2957 2959 2967 2973 2983 2983 2985 2987 2992 3001 3005 3015 3017 3028 3030 3033 3037 3040 3050 3056 3058 3068 3070 3072 3074 3082 3084 3087 3089 3090 3092 3110 3120 3120 3127 3129 3129 3130 3136 3139 3148 3155 3165 3171 3178 3186 3187 3189 3196 3203 3211 3219 3219 3221 3226 3226 3233 3236 3242 3245 3246 3251 3261 3264 3264 3273 3283 3284 3292 3292 3299 3318 3318 3332 3334 3350 3358 3359 3363 3364 3366 3372 3373 3374 3375 3379 3382 3382 3389 3389 3405 3415 3415 3420 3421 3433 3446 3462 3469 3473 3478 3478 3478 3485 3488 3495 3495 3497 3501 3504 3512 3518 3519 3522 3545 3552 3552 3559 3561 3570 3575 3575 3577 3596 3606 3608 3615 3625 3634 3648 3648 3649 3649 3649 3651 3653 3665 3667 3688 3705 3706 3707 3709 3712 3722 3724 3724 3731 3733 3746 3747 3762 3766 3780 3781 3782 3786 3803 3806 3811 3819 3820 3834 3837 3837 3851 3853 3863 3868 3880 3880 3883 3894 3899 3910 3910 3910 3916 3919 3921 3934 3940 3971 3981 3982 3982 3991 3996 3997 4000 4009 4020 4023 4036 4053 4053 4066 4071 4073 4079 4080 4080 4096 4097 4110 4113 4128 4134 4154 4165 4166 4167 4168 4177 4186 4209 4210 4216 4222 4225 4225 4233 4236 4241 4243 4259 4267 4282 4314 4323 4329 4338 4338 4340 4340 4347 4351 4365 4372 4395 4396 4411 4422 4429 4430 4437 4452 4460 4468 4475 4477 4496 4501 4509 4523 4526 4551 4558 4561 4566 4574 4574 4581 4588 4593 4631 4632 4652 4663 4663 4682 4687 4689 4689 4730 4744 4744 4760 4760 4779 4783 4788 4800 4817 4817 4843 4859 4875 4880 4897 4907 4916 4916 4930 4944 4954 5003 5015 5017 5029 5038 5067 5072 5093 5102 5130 5130 5166 5201 5224 5230 5231 5258 5258 5265 5302 5352 5359 5361 5421 5444 5451 5489 5545 5588 5607 5607 5708 5744 5793 5894 5930 6031\n",
      "71-71-103-128-147-113-97-103-113 71-71-113-103-97-113-147-128-103 71-103-128-147-113-97-103-113-71 71-113-103-97-113-147-128-103-71 97-103-113-71-71-103-128-147-113 97-113-147-128-103-71-71-113-103 103-71-71-113-103-97-113-147-128 103-97-113-147-128-103-71-71-113 103-113-71-71-103-128-147-113-97 103-128-147-113-97-103-113-71-71 113-71-71-103-128-147-113-97-103 113-97-103-113-71-71-103-128-147 113-103-97-113-147-128-103-71-71 113-147-128-103-71-71-113-103-97 128-103-71-71-113-103-97-113-147 128-147-113-97-103-113-71-71-103 147-113-97-103-113-71-71-103-128 147-128-103-71-71-113-103-97-113\n",
      "False\n",
      "False\n",
      "True\n",
      "True\n",
      "True\n",
      "False\n"
     ]
    }
   ],
   "source": [
    "%run -i Week_3.ipynb"
   ]
  },
  {
   "attachments": {},
   "cell_type": "markdown",
   "metadata": {},
   "source": [
    "## Cyclopeptide Scoring Problem: Compute the score of a cyclic peptide against a spectrum.\n",
    "\n",
    "Input: An amino acid string Peptide and a collection of integers Spectrum.  \n",
    "Output: The score of Peptide against Spectrum, Score(Peptide, Spectrum).  \n",
    "Code Challenge: Solve the Cyclopeptide Scoring Problem.  "
   ]
  },
  {
   "cell_type": "code",
   "execution_count": 34,
   "metadata": {},
   "outputs": [],
   "source": [
    "def cyclopeptide_scoring(peptide, spectrum):\n",
    "    \"\"\"\n",
    "    Calculate the score of a peptide based on its spectrum.\n",
    "\n",
    "    Args:\n",
    "        spectrum (list): The experimental spectrum.\n",
    "        peptide_masses (list): The masses of the peptide.\n",
    "\n",
    "    Returns:\n",
    "        int: The score of the peptide.\n",
    "    \"\"\"\n",
    "    score = 1  # Start with score 1 for the 0 mass\n",
    "    peptide_spectrum = cyclospectrum(peptide, spectrum)\n",
    "    pointer = 0\n",
    "\n",
    "    # Iterate over the masses in the peptide spectrum\n",
    "    for mass in peptide_spectrum:\n",
    "        i = pointer + 1\n",
    "        while i < len(spectrum):\n",
    "            if spectrum[i] > mass:\n",
    "                break\n",
    "            if spectrum[i] == mass:\n",
    "                score += 1\n",
    "                pointer = i\n",
    "                break\n",
    "            i += 1\n",
    "\n",
    "    return score\n"
   ]
  },
  {
   "cell_type": "code",
   "execution_count": 35,
   "metadata": {},
   "outputs": [],
   "source": [
    "sample_peptide = 'NQEL'\n",
    "sample_spectrum = [0, 99, 113, 114, 128, 227, 257, 299, 355, 356, 370, 371, 484]\n",
    "sample_output = 11\n",
    "assert cyclopeptide_scoring(sample_peptide, sample_spectrum) == sample_output"
   ]
  },
  {
   "cell_type": "code",
   "execution_count": 36,
   "metadata": {},
   "outputs": [
    {
     "data": {
      "text/plain": [
       "472"
      ]
     },
     "execution_count": 36,
     "metadata": {},
     "output_type": "execute_result"
    }
   ],
   "source": [
    "with open('./data/dataset_102_3.txt') as f:\n",
    "    peptide = f.readline().strip()\n",
    "    spectrum = [ int(s) for s in f.readline().strip().split(\" \")]\n",
    "\n",
    "cyclopeptide_scoring(peptide, spectrum)"
   ]
  },
  {
   "cell_type": "code",
   "execution_count": 91,
   "metadata": {},
   "outputs": [
    {
     "data": {
      "text/plain": [
       "10"
      ]
     },
     "execution_count": 91,
     "metadata": {},
     "output_type": "execute_result"
    }
   ],
   "source": [
    "# Quiz\n",
    "\n",
    "peptide = 'MAMA'\n",
    "spectrum = '0 57 71 71 71 104 131 202 202 202 256 333 333 403 404'\n",
    "spectrum = [int(s) for s in spectrum.split()]\n",
    "cyclopeptide_scoring(peptide, spectrum)"
   ]
  },
  {
   "attachments": {},
   "cell_type": "markdown",
   "metadata": {},
   "source": [
    "## Code Challenge: Compute the score of a linear peptide with respect to a spectrum.\n",
    "\n",
    "Input: An amino acid string Peptide and a collection of integers Spectrum.  \n",
    "Output: The linear score of Peptide with respect to Spectrum, LinearScore(Peptide, Spectrum)."
   ]
  },
  {
   "cell_type": "code",
   "execution_count": 37,
   "metadata": {},
   "outputs": [],
   "source": [
    "def linear_peptide_scoring(spectrum, peptide):\n",
    "    \"\"\"\n",
    "    Calculate the score of a linear peptide based on its spectrum.\n",
    "\n",
    "    Args:\n",
    "        spectrum (list): The experimental spectrum.\n",
    "        peptide (str): The amino acid sequence of the peptide.\n",
    "\n",
    "    Returns:\n",
    "        int: The score of the peptide.\n",
    "    \"\"\"\n",
    "    score = 1  # Start with score 1 for the 0 mass\n",
    "    peptide_spectrum = linear_spectrum(peptide)\n",
    "    pointer = 0\n",
    "\n",
    "    # Iterate over the masses in the peptide spectrum\n",
    "    for mass in peptide_spectrum:\n",
    "        i = pointer + 1\n",
    "        while i < len(spectrum):\n",
    "            if spectrum[i] > mass:\n",
    "                break\n",
    "            if spectrum[i] == mass:\n",
    "                score += 1\n",
    "                pointer = i\n",
    "                break\n",
    "            i += 1\n",
    "\n",
    "    return score"
   ]
  },
  {
   "cell_type": "code",
   "execution_count": 38,
   "metadata": {},
   "outputs": [],
   "source": [
    "sample_peptide = 'NQEL'\n",
    "sample_spectrum = [0, 99, 113, 114, 128, 227, 257, 299, 355, 356, 370, 371, 484]\n",
    "sample_output = 8\n",
    "\n",
    "sample_result = linear_peptide_scoring(sample_spectrum, sample_peptide)\n",
    "assert sample_result == sample_output"
   ]
  },
  {
   "cell_type": "code",
   "execution_count": 39,
   "metadata": {},
   "outputs": [
    {
     "data": {
      "text/plain": [
       "169"
      ]
     },
     "execution_count": 39,
     "metadata": {},
     "output_type": "execute_result"
    }
   ],
   "source": [
    "with open('./data/dataset_4913_1.txt') as f:\n",
    "    peptides = f.readline().strip()\n",
    "    spectrum = [int(s) for s in f.readline().strip().split(\" \")]\n",
    "\n",
    "linear_peptide_scoring(spectrum, peptides)"
   ]
  },
  {
   "cell_type": "code",
   "execution_count": 92,
   "metadata": {},
   "outputs": [
    {
     "data": {
      "text/plain": [
       "10"
      ]
     },
     "execution_count": 92,
     "metadata": {},
     "output_type": "execute_result"
    }
   ],
   "source": [
    "# Quiz\n",
    "\n",
    "peptide = 'PEEP'\n",
    "spectrum = '0 97 97 129 129 194 203 226 226 258 323 323 323 355 403 452'\n",
    "spectrum = [int(s) for s in spectrum.split()]\n",
    "linear_peptide_scoring(spectrum, peptide)"
   ]
  },
  {
   "attachments": {},
   "cell_type": "markdown",
   "metadata": {},
   "source": [
    "## Code Challenge: Implement Trim (reproduced below).\n",
    "Input: A collection of peptides Leaderboard, a collection of integers Spectrum, and an integer N.  \n",
    "Output: The N highest-scoring linear peptides on Leaderboard with respect to Spectrum.  \n",
    "\n",
    "```\n",
    "Trim(Leaderboard, Spectrum, N, Alphabet, AminoAcidMass)\n",
    "    for j ← 1 to |Leaderboard|\n",
    "        Peptide ← j-th peptide in Leaderboard\n",
    "        LinearScores(j) ← LinearScore(Peptide, ﻿Alphabet, AminoAcidMass, Spectrum)\n",
    "    sort Leaderboard according to the decreasing order of scores in LinearScores\n",
    "    sort LinearScores in decreasing order\n",
    "    for j ← N + 1 to |Leaderboard|\n",
    "        if LinearScores(j) < LinearScores(N)\n",
    "            remove all peptides starting from the j-th peptide from Leaderboard\n",
    "            return Leaderboard\n",
    "    return Leaderboard\n",
    "```"
   ]
  },
  {
   "cell_type": "code",
   "execution_count": 40,
   "metadata": {},
   "outputs": [],
   "source": [
    "from collections import defaultdict\n",
    "\n",
    "def trim(leaderboard, spectrum, n):\n",
    "    \"\"\"\n",
    "    Trim the leaderboard to keep the top-scoring peptides.\n",
    "\n",
    "    Args:\n",
    "        leaderboard (list): List of peptides in the leaderboard.\n",
    "        spectrum (list): The experimental spectrum.\n",
    "        n (int): The desired number of top-scoring peptides to keep.\n",
    "\n",
    "    Returns:\n",
    "        list: Trimmed leaderboard containing the top-scoring peptides.\n",
    "    \"\"\"\n",
    "    leaderboard = list(filter(lambda x: x != '', leaderboard))\n",
    "    if n >= len(leaderboard):\n",
    "        return leaderboard\n",
    "\n",
    "    peptide_scores = defaultdict(list)\n",
    "    new_board = []\n",
    "\n",
    "    # Calculate scores for each peptide in the leaderboard\n",
    "    for peptide in leaderboard:\n",
    "        peptide_scores[linear_peptide_scoring(spectrum, peptide)].append(peptide)\n",
    "\n",
    "    # Sort the scores in descending order\n",
    "    sorted_keys = sorted(peptide_scores.keys())\n",
    "\n",
    "    i = 0\n",
    "    pointer = len(sorted_keys) - 1\n",
    "\n",
    "    # Keep adding peptides with top scores to the new leaderboard until reaching the desired count\n",
    "    while i < n:\n",
    "        key = sorted_keys[pointer]\n",
    "        new_board += peptide_scores[key]\n",
    "        i += len(peptide_scores[key])\n",
    "        pointer -= 1\n",
    "\n",
    "    return new_board"
   ]
  },
  {
   "cell_type": "code",
   "execution_count": 41,
   "metadata": {},
   "outputs": [],
   "source": [
    "sample_leaderboard = 'LAST ALST TLLT TQAS'.split()\n",
    "sample_spectrum = [int(s) for s in '0 71 87 101 113 158 184 188 259 271 372'.split()]\n",
    "sample_n = 2\n",
    "sample_output = 'LAST ALST'\n",
    "\n",
    "sample_result = trim(sample_leaderboard, sample_spectrum, sample_n)\n",
    "\n",
    "assert ' '.join(sample_result) == sample_output"
   ]
  },
  {
   "cell_type": "code",
   "execution_count": 42,
   "metadata": {},
   "outputs": [],
   "source": [
    "with open('./data/dataset_4913_3.txt') as f:\n",
    "    peptides = f.readline().strip().split(\" \")\n",
    "    spectrum = [ int(s) for s in f.readline().strip().split(\" \")]\n",
    "    n = int(f.readline())\n",
    "\n",
    "result = trim(peptides, spectrum, n)\n",
    "with open('./submission_4913_3.txt', 'w') as f:\n",
    "    f.write(\" \".join(result))"
   ]
  },
  {
   "attachments": {},
   "cell_type": "markdown",
   "metadata": {},
   "source": [
    "## Code Challenge: Implement LeaderboardCyclopeptideSequencing.\n",
    "\n",
    "Input: An integer N and a collection of integers Spectrum.  \n",
    "Output: LeaderPeptide after running LeaderboardCyclopeptideSequencing(Spectrum, N).  \n",
    "Note: Multiple solutions may exist. You may return any one.  \n",
    "\n",
    "```\n",
    "LeaderboardCyclopeptideSequencing(Spectrum, N)\n",
    "    Leaderboard ← set containing only the empty peptide\n",
    "    LeaderPeptide ← empty peptide\n",
    "    while Leaderboard is non-empty\n",
    "        Leaderboard ← Expand(Leaderboard)\n",
    "        for each Peptide in Leaderboard\n",
    "            if Mass(Peptide) = ParentMass(Spectrum)\n",
    "                if Score(Peptide, Spectrum) > Score(LeaderPeptide, Spectrum)\n",
    "                    LeaderPeptide ← Peptide\n",
    "            else if Mass(Peptide) > ParentMass(Spectrum)\n",
    "                remove Peptide from Leaderboard\n",
    "        Leaderboard ← Trim(Leaderboard, Spectrum, N)\n",
    "    output LeaderPeptide\n",
    "```\n",
    "\n",
    "> **Todo**: Still need to look into this in detail"
   ]
  },
  {
   "cell_type": "code",
   "execution_count": 45,
   "metadata": {},
   "outputs": [],
   "source": [
    "from collections import defaultdict\n",
    "\n",
    "\n",
    "def leaderboard_cyclo_peptde_sequencing(spectrum, masses, n):\n",
    "    \"\"\"\n",
    "    Performs leaderboard cyclopeptide sequencing to identify the leader peptides.\n",
    "\n",
    "    Args:\n",
    "        spectrum (list): Experimental spectrum.\n",
    "        masses (list): List of amino acid masses.\n",
    "        n (int): Number of top-scoring peptides to keep in the leaderboard.\n",
    "\n",
    "    Returns:\n",
    "        dict: Dictionary containing leader peptides grouped by their score.\n",
    "    \"\"\"\n",
    "    leaderboard = [[]]\n",
    "    leader_peptide = ''\n",
    "    leader_peptide_score = 0\n",
    "    parent_mass = max(spectrum)\n",
    "    while len(leaderboard):\n",
    "        leaderboard = expand(leaderboard, masses)\n",
    "        for i, peptide in enumerate(leaderboard):\n",
    "            peptide_mass = mass(peptide)\n",
    "            if peptide_mass == parent_mass:\n",
    "                peptide_score = cyclopeptide_scoring(spectrum, peptide)\n",
    "                if peptide_score > leader_peptide_score:\n",
    "                    leader_peptide = peptide\n",
    "                    leader_peptide_score = peptide_score\n",
    "            elif peptide_mass > parent_mass:\n",
    "                leaderboard[i] = ''\n",
    "        leaderboard = trim(leaderboard, spectrum, n)\n",
    "    print('Leader peptide score', leader_peptide_score)\n",
    "    return leader_peptide\n",
    "\n",
    "\n",
    "def mass(peptide_mass):\n",
    "    \"\"\"\n",
    "    Calculates the mass of a peptide.\n",
    "\n",
    "    Args:\n",
    "        peptide_mass (list): List of amino acid masses in the peptide.\n",
    "\n",
    "    Returns:\n",
    "        int: The total mass of the peptide.\n",
    "    \"\"\"\n",
    "    return sum(peptide_mass)\n",
    "\n",
    "\n",
    "def expand(leaderboard, masses):\n",
    "    \"\"\"\n",
    "    Expands the leaderboard by adding all possible masses to each peptide.\n",
    "\n",
    "    Args:\n",
    "        leaderboard (list): List of peptides in the leaderboard.\n",
    "        masses (list): List of amino acid masses.\n",
    "\n",
    "    Returns:\n",
    "        list: Expanded leaderboard with additional peptides.\n",
    "    \"\"\"\n",
    "    new_leaderboard = []\n",
    "    for peptide in leaderboard:\n",
    "        for mass in masses:\n",
    "            new_peptide = peptide + [mass]\n",
    "            new_leaderboard.append(new_peptide)\n",
    "    return new_leaderboard\n"
   ]
  },
  {
   "cell_type": "code",
   "execution_count": 74,
   "metadata": {},
   "outputs": [],
   "source": [
    "mass_code = {'G': 57, 'A': 71, 'S': 87, 'P': 97, 'V': 99, 'T': 101, 'C': 103, 'I': 113, 'L': 113, 'N': 114, 'D': 115, 'K': 128, 'Q': 128, 'E': 129, 'M': 131, 'H': 137, 'F': 147, 'R': 156, 'Y': 163, 'W': 186}\n",
    "\n",
    "spec_masses = {57: 'G', 71: 'A', 87: 'S', 97: 'P', 99: 'V', 101: 'T', 103: 'C', 113: 'L', 114: 'N', 115: 'D', 128: 'Q', 129: 'E', 131: 'M', 137: 'H', 147: 'F', 156: 'R', 163: 'Y', 186: 'W'}\n",
    "\n",
    "\n",
    "\n",
    "def expand_leaderboard(leaderboard, mass_list):\n",
    "    expanded_leaderboard = []\n",
    "    for pep in leaderboard:\n",
    "        for mass in mass_list:\n",
    "            expanded_pep = str(pep) + '-' + str(mass)\n",
    "            expanded_leaderboard.append(expanded_pep)\n",
    "    return expanded_leaderboard\n",
    "\n",
    "\n",
    "\n",
    "def conv_cyclo_spec(peptide):\n",
    "    masses = [int(x) for x in peptide.split('-')]\n",
    "    l = len(masses)\n",
    "    pref_mass = [0]\n",
    "    for i in range(l):\n",
    "        pref_mass.append(pref_mass[i] + masses[i])\n",
    "    cyclo_spec = [0]\n",
    "    total_mass = pref_mass[l]\n",
    "    for i in range(l):\n",
    "        for j in range(i+1, l+1):\n",
    "            cyclo_spec.append(pref_mass[j] - pref_mass[i])\n",
    "            if i > 0 and j < l:\n",
    "                cyclo_spec.append(total_mass - (pref_mass[j] - pref_mass[i]))\n",
    "    return sorted(cyclo_spec)\n",
    "\n",
    "\n",
    "\n",
    "def conv_lin_spec(peptide):\n",
    "    masses = [int(x) for x in peptide.split('-')]\n",
    "    l = len(masses)\n",
    "    pref_mass = [0]\n",
    "    for i in range(l):\n",
    "        pref_mass.append(pref_mass[i] + masses[i])\n",
    "    lin_spec = [0]\n",
    "    for i in range(l):\n",
    "        for j in range(i+1, l+1):\n",
    "            lin_spec.append(pref_mass[j] - pref_mass[i])\n",
    "    return sorted(lin_spec)\n",
    "\n",
    "\n",
    "\n",
    "def linear_score(peptide, spectrum):\n",
    "    if len(peptide) == 0:\n",
    "        return 0\n",
    "    theory_spec = conv_lin_spec(peptide)\n",
    "    # print(theory_spec)\n",
    "    score = 0\n",
    "    x = 0\n",
    "    for i in range(len(theory_spec)):\n",
    "        for j in range(x, len(spectrum)):\n",
    "            if str(spectrum[j]) == str(theory_spec[i]):\n",
    "                score += 1\n",
    "                x = j + 1\n",
    "                break\n",
    "    return score\n",
    "\n",
    "\n",
    "def leaderboard_trim(leaderboard, spectrum, n):\n",
    "    l = len(leaderboard)\n",
    "    if l <= int(n):\n",
    "        return leaderboard\n",
    "    scores_dict = {}\n",
    "    for i in range(l):\n",
    "        peptide = leaderboard[i]\n",
    "        scores_dict.setdefault(peptide, 0)\n",
    "        scores_dict[peptide] = linear_score(peptide, spectrum)\n",
    "    sorted_scores = dict(sorted(scores_dict.items(), key=lambda x: x[1], reverse=True))\n",
    "    leaderboard = list(sorted_scores.keys())\n",
    "    linear_scores = list(sorted_scores.values())\n",
    "    k = len(linear_scores)\n",
    "    cutoff = linear_scores[n-1]\n",
    "    for i in range(n, k):\n",
    "        if linear_scores[i] < cutoff:\n",
    "            return leaderboard[:i]\n",
    "    return leaderboard\n",
    "\n",
    "\n",
    "\n",
    "def lead_cyclo_seq(spectrum, n):\n",
    "    mass_list = spec_masses\n",
    "    leaderboard = [str(mass) for mass in mass_list]\n",
    "    lead_pep = ''\n",
    "    best_peps = []\n",
    "    spec_int = [int(x) for x in spectrum]\n",
    "    x = 0\n",
    "    while len(leaderboard) < 10000:\n",
    "        leaderboard = expand_leaderboard(leaderboard, mass_list)\n",
    "        for pep in leaderboard:\n",
    "            total_mass = sum(int(x) for x in pep.split('-'))\n",
    "            if total_mass > max(spec_int):\n",
    "                leaderboard.remove(pep)\n",
    "            elif total_mass == max(spec_int):\n",
    "                if linear_score(pep, spectrum) > linear_score(lead_pep, spectrum):\n",
    "                    best_peps = [pep]\n",
    "                    lead_pep = pep\n",
    "                elif linear_score(pep, spectrum) == linear_score(lead_pep, spectrum):\n",
    "                    best_peps.append(pep)\n",
    "                else:\n",
    "                    x += 1\n",
    "        leaderboard = leaderboard_trim(leaderboard, spectrum, n)\n",
    "        if x > 100:\n",
    "            break\n",
    "    print('The best scoring sequence is: ' + lead_pep)\n",
    "    # print('Alternate peptide solutions: ' + str(best_peps))\n",
    "    return lead_pep, best_peps"
   ]
  },
  {
   "cell_type": "code",
   "execution_count": 75,
   "metadata": {},
   "outputs": [
    {
     "name": "stdout",
     "output_type": "stream",
     "text": [
      "The best scoring sequence is: 113-147-71-129\n"
     ]
    },
    {
     "data": {
      "text/plain": [
       "('113-147-71-129', ['113-147-71-129', '129-71-147-113'])"
      ]
     },
     "execution_count": 75,
     "metadata": {},
     "output_type": "execute_result"
    }
   ],
   "source": [
    "sample_leaderboard_size = 10\n",
    "sample_spectrum = [int(s) for s in '0 71 113 129 147 200 218 260 313 331 347 389 460'.split()]\n",
    "sample_output = '113-147-71-129'\n",
    "masses = list(set(amino_acid_masses.values()))\n",
    "lead_cyclo_seq(sample_spectrum, sample_leaderboard_size)"
   ]
  },
  {
   "cell_type": "code",
   "execution_count": 76,
   "metadata": {},
   "outputs": [
    {
     "name": "stdout",
     "output_type": "stream",
     "text": [
      "The best scoring sequence is: 97-163-156-137-129-103-113-128-113-147-128-156-128-137-97-97-97-128-114-186-103-186\n"
     ]
    }
   ],
   "source": [
    "with open('./data/dataset_102_8.txt') as f:\n",
    "    n = int(f.readline().strip())\n",
    "    spectrum = [ int(s) for s in f.readline().strip().split(\" \")]\n",
    "\n",
    "best, _ = lead_cyclo_seq(spectrum, n)\n",
    "with open('./data/submission_102_8.txt', 'w') as f:\n",
    "    f.write(\" \".join(best))"
   ]
  },
  {
   "attachments": {},
   "cell_type": "markdown",
   "metadata": {},
   "source": [
    "## Spectral Convolution Problem: Compute the convolution of a spectrum.\n",
    "\n",
    "Input: A collection of integers Spectrum in increasing order.  \n",
    "Output: The list of elements in the convolution of Spectrum. If an element has multiplicity k, it should appear exactly k times; you may return the elements in any order.  \n",
    "Code Challenge: Solve the Spectral Convolution Problem.  (Note: the convolution should not contain any zeroes.)"
   ]
  },
  {
   "cell_type": "code",
   "execution_count": 46,
   "metadata": {},
   "outputs": [],
   "source": [
    "def spectrum_convolution(spectrum):\n",
    "    spectrum.sort()\n",
    "    convolution = []\n",
    "    for i, current_mass in enumerate(spectrum[:-1]):\n",
    "        for mass in spectrum[i+1:]:\n",
    "            if mass == current_mass:\n",
    "                continue\n",
    "            convolution.append(mass - current_mass)\n",
    "    convolution.sort()\n",
    "    return convolution"
   ]
  },
  {
   "cell_type": "code",
   "execution_count": 47,
   "metadata": {},
   "outputs": [
    {
     "data": {
      "text/plain": [
       "[49, 137, 137, 186, 186, 323]"
      ]
     },
     "execution_count": 47,
     "metadata": {},
     "output_type": "execute_result"
    }
   ],
   "source": [
    "sample_input = [0, 137, 186, 323]\n",
    "sample_output = [137, 137, 186, 186, 323, 49]\n",
    "\n",
    "spectrum_convolution(sample_input)"
   ]
  },
  {
   "cell_type": "code",
   "execution_count": 51,
   "metadata": {},
   "outputs": [
    {
     "name": "stdout",
     "output_type": "stream",
     "text": [
      "1 1 1 1 1 1 1 1 1 1 2 2 2 2 2 2 2 2 2 2 2 2 3 3 3 3 3 3 3 3 3 3 3 3 4 4 5 5 6 6 6 6 6 6 6 6 7 7 7 7 7 7 7 7 7 7 7 7 8 8 8 8 8 8 8 8 9 9 9 9 9 9 9 9 9 9 9 9 9 9 9 9 10 10 10 10 10 10 10 10 10 10 10 10 10 10 11 11 11 11 12 12 12 12 13 13 13 13 13 13 13 13 13 13 14 14 14 14 15 15 15 15 15 15 16 16 16 16 16 16 16 16 16 16 16 16 16 16 16 16 16 16 16 16 17 17 17 17 18 18 18 18 18 18 18 18 19 19 19 19 19 19 19 19 19 19 19 19 19 19 19 19 20 20 21 21 21 21 21 21 21 21 22 22 23 23 23 23 23 23 23 23 23 23 25 25 25 25 26 26 26 26 26 26 27 27 27 27 28 28 28 28 29 29 29 29 29 29 29 29 29 29 30 30 30 30 30 30 30 30 30 30 30 30 30 30 31 31 32 32 32 32 32 32 32 32 32 32 32 32 34 34 34 34 35 35 35 35 36 36 36 36 38 38 38 38 38 38 38 38 39 39 39 39 39 39 39 39 39 39 39 39 39 39 39 39 39 39 40 40 40 40 40 40 41 41 41 41 41 41 41 41 41 41 41 41 42 42 42 42 42 42 42 42 42 42 42 42 42 42 42 42 44 44 44 44 44 44 44 44 45 45 47 47 47 47 48 48 48 48 48 48 48 48 48 48 48 48 48 48 48 48 48 48 48 48 49 49 49 49 49 49 49 49 49 49 49 49 50 50 50 50 50 50 50 50 50 50 51 51 51 51 51 51 51 51 52 52 55 55 55 55 55 55 55 55 55 55 55 55 55 55 57 57 57 57 57 57 57 57 57 57 57 57 57 57 57 57 57 57 57 57 57 57 57 57 57 57 57 57 57 57 58 58 58 58 58 58 58 58 58 58 58 58 58 58 58 58 59 59 59 59 60 60 60 60 60 60 60 60 60 60 60 60 61 61 61 61 61 61 61 61 62 62 62 62 62 62 62 62 64 64 66 66 66 66 66 66 66 66 67 67 67 68 68 68 68 68 68 68 68 68 68 68 68 69 69 69 69 69 69 70 70 70 70 70 70 70 70 71 71 71 71 71 71 71 71 71 71 71 71 71 71 71 71 71 71 71 71 71 71 71 71 71 71 71 71 71 71 71 71 72 72 72 72 72 72 72 72 73 73 73 73 74 74 74 74 74 74 74 74 74 74 74 74 74 74 74 74 74 74 76 76 76 76 76 76 78 78 78 78 78 78 78 78 78 78 78 78 78 78 78 78 79 79 79 79 80 80 80 80 80 80 80 80 80 80 80 80 80 80 80 80 81 81 81 81 81 81 81 81 81 81 82 82 82 82 82 82 83 83 84 84 84 84 85 85 85 85 86 86 86 86 86 86 86 86 87 87 87 87 87 87 87 87 87 87 87 87 87 87 87 87 87 87 87 87 87 87 87 87 87 87 87 87 87 87 87 87 87 87 87 87 87 87 87 87 87 87 87 87 87 87 87 87 87 87 87 87 87 87 87 87 88 88 88 88 88 88 89 89 89 89 89 89 89 89 89 89 89 89 89 89 89 89 89 89 89 89 89 89 90 90 90 90 90 90 90 90 90 90 90 90 90 90 90 90 91 91 92 92 93 93 93 93 94 94 94 94 95 95 95 95 96 96 96 96 96 96 96 96 97 97 97 97 97 97 97 97 97 97 97 97 97 97 97 97 97 97 98 98 99 99 99 99 99 99 99 99 99 99 99 99 100 100 101 101 102 102 102 102 103 103 103 103 103 103 105 105 105 105 105 105 105 105 105 105 106 106 106 106 106 106 106 106 106 106 107 108 108 108 108 108 108 108 108 108 108 109 109 109 109 110 110 110 110 110 110 110 110 110 110 110 110 110 110 112 112 112 112 112 112 112 112 112 112 113 113 113 113 113 115 115 115 115 115 115 116 116 116 116 117 117 117 117 118 118 118 118 118 118 119 119 119 119 119 119 119 119 119 119 119 119 120 120 120 120 121 121 121 121 121 121 121 121 122 122 122 122 122 122 123 123 125 125 125 125 125 125 125 125 126 126 126 126 126 126 126 126 126 126 127 127 127 127 127 128 128 128 128 128 128 128 128 128 128 128 128 128 128 128 128 128 128 128 128 128 128 128 128 128 128 128 128 128 128 129 129 129 129 129 129 129 129 129 129 129 129 129 129 129 129 129 129 129 129 129 129 129 129 129 129 129 129 129 129 129 129 130 130 131 131 131 131 131 131 131 131 131 131 131 131 131 131 131 131 131 131 131 131 131 131 131 131 131 131 131 131 131 131 131 132 132 135 135 135 135 135 135 135 135 135 135 135 135 136 136 136 136 136 136 136 136 136 136 136 136 137 137 137 137 137 137 137 137 137 137 137 137 137 137 137 137 137 137 137 137 137 137 137 137 137 137 138 138 138 138 138 138 138 138 138 138 138 138 138 138 138 138 139 139 140 140 140 140 142 142 142 142 142 142 142 142 142 142 142 142 143 144 144 144 144 144 144 144 144 144 144 144 144 144 144 144 144 144 144 144 144 144 144 144 144 144 144 145 145 145 145 145 145 145 145 145 145 145 145 145 146 146 146 146 146 146 147 147 147 147 147 147 147 147 147 147 147 147 147 147 147 147 147 147 147 147 147 147 147 147 148 148 148 148 148 148 148 148 149 149 149 149 149 151 151 152 152 153 153 153 153 154 154 154 154 155 155 155 155 156 156 156 156 156 156 156 156 157 157 157 157 158 158 158 158 158 158 158 158 158 158 158 158 158 158 158 158 158 158 158 158 159 159 159 159 159 159 160 160 160 160 160 160 160 160 161 161 161 161 161 161 161 161 161 161 161 161 161 161 163 163 163 163 163 163 163 163 165 165 165 165 165 165 165 165 165 165 165 165 166 166 167 167 167 167 167 167 167 167 167 167 167 167 167 167 168 168 168 168 168 168 168 168 169 169 169 169 169 169 170 170 170 170 170 170 173 173 173 173 173 173 174 174 174 174 174 174 176 176 176 176 176 176 176 176 176 176 176 176 176 176 176 176 176 176 176 176 176 176 177 177 177 177 177 177 177 177 177 177 177 177 179 179 179 179 179 179 179 179 179 179 180 180 184 184 184 184 184 184 185 185 186 186 186 186 186 186 186 186 186 186 186 186 186 186 186 186 186 186 186 186 186 186 186 186 186 186 186 186 188 188 188 188 189 189 189 189 189 189 190 190 192 192 192 192 193 193 194 194 195 195 195 195 195 195 195 195 196 196 197 197 197 197 197 197 197 197 197 197 199 199 199 199 199 199 199 199 199 199 199 199 199 199 199 199 199 199 199 199 199 199 199 199 200 200 200 200 200 200 202 202 202 202 202 202 202 202 203 203 203 204 204 204 204 205 205 205 205 205 205 206 206 206 206 206 206 207 207 207 207 207 207 207 207 208 208 208 208 208 208 209 209 209 209 209 209 209 209 209 209 209 209 209 209 210 210 210 210 211 211 211 211 212 212 212 212 213 213 213 213 213 213 214 214 214 214 215 215 215 215 215 215 215 215 215 215 215 215 215 215 215 215 215 215 215 215 215 215 215 215 215 215 215 215 216 216 216 216 216 216 216 216 216 216 216 216 216 216 216 216 216 216 216 216 216 216 216 216 216 216 217 217 217 217 217 217 218 218 218 218 218 218 218 218 218 218 218 218 218 218 218 218 218 218 218 218 218 218 218 218 218 218 218 218 218 218 218 218 218 218 218 218 218 218 218 218 218 218 219 219 219 219 219 219 220 220 222 222 222 222 222 222 222 222 223 223 223 223 224 224 224 224 224 224 224 224 224 224 224 224 224 224 224 224 224 224 224 224 224 224 225 225 225 225 225 225 225 225 225 225 225 225 225 225 225 225 226 226 226 226 226 226 227 227 227 227 227 227 227 227 228 228 228 228 229 229 229 229 230 230 231 231 231 231 231 231 231 231 231 231 232 232 232 232 233 233 233 233 233 233 233 233 234 234 234 234 234 234 234 234 234 234 234 234 234 234 234 234 234 234 234 234 234 234 234 234 234 234 234 234 234 234 235 235 235 235 236 236 236 236 237 237 237 237 238 238 238 238 239 239 239 239 241 241 241 241 243 243 243 243 245 245 245 245 245 246 246 246 246 246 246 247 247 247 247 247 247 247 247 247 247 247 247 247 247 247 247 248 248 248 248 248 248 248 248 250 250 250 250 250 250 250 250 252 252 252 252 253 253 253 253 254 254 254 254 254 254 254 254 254 254 255 255 256 256 256 256 256 256 256 256 256 256 256 256 257 257 257 257 257 257 257 257 257 257 257 257 257 257 257 257 258 258 259 259 260 260 260 260 260 260 260 260 260 260 263 263 263 263 263 263 263 263 264 264 264 264 264 264 265 265 266 266 266 266 266 266 266 266 266 266 266 266 266 266 266 266 267 267 267 267 267 267 268 268 268 268 268 268 268 268 272 272 272 272 273 273 273 273 273 273 273 273 273 273 273 273 273 273 273 273 273 273 273 273 273 273 273 273 273 273 273 273 273 273 273 273 273 273 275 275 275 275 275 275 275 275 275 275 275 275 275 275 275 275 275 275 276 276 276 276 276 276 276 276 276 276 276 276 281 281 281 281 282 282 282 282 283 283 284 284 284 284 284 284 284 284 285 285 285 285 286 286 286 286 286 286 286 286 286 286 286 286 286 286 286 286 286 286 287 287 287 287 287 289 289 289 289 289 289 289 289 289 289 290 290 290 290 291 291 291 291 291 291 291 292 292 292 292 292 292 294 294 294 294 294 294 294 294 295 295 295 295 296 296 296 296 296 296 296 296 296 296 296 296 296 296 296 296 296 296 296 296 296 296 297 297 298 298 298 298 298 298 298 298 300 300 301 302 302 302 302 302 302 302 302 302 302 302 302 302 302 302 302 303 303 303 303 303 303 303 303 304 304 304 304 304 304 304 304 304 304 304 304 305 305 305 305 305 305 305 305 305 305 305 305 305 305 305 305 305 305 305 305 305 305 305 305 305 305 305 305 306 306 306 306 307 307 307 307 307 307 307 307 307 307 308 308 308 308 309 309 309 309 311 311 311 311 311 311 312 312 312 312 312 312 312 312 313 313 313 313 314 314 314 314 314 314 315 315 315 315 317 317 317 317 317 317 317 318 318 320 320 320 320 321 321 321 321 321 321 321 321 321 321 321 321 321 321 321 321 321 321 323 323 323 323 323 323 323 324 324 324 324 324 324 325 325 325 326 326 328 328 328 328 328 328 330 330 332 332 333 333 333 333 333 333 334 334 334 334 334 334 334 334 334 334 334 334 335 335 335 335 335 335 335 335 336 336 337 337 337 337 337 337 338 338 340 340 341 341 341 341 341 341 342 342 343 343 343 343 343 343 343 343 343 343 343 343 344 344 344 344 344 344 344 344 344 344 344 344 344 344 344 344 344 344 344 344 344 344 345 345 345 345 346 346 346 346 346 346 346 346 346 346 346 346 346 346 346 346 347 347 347 347 347 347 347 347 347 347 347 347 347 347 347 347 347 347 347 347 351 351 351 351 351 351 352 352 352 352 353 353 353 353 353 353 353 353 353 353 353 353 353 353 353 353 353 353 353 353 354 354 354 354 354 354 354 354 355 355 355 355 355 355 355 355 355 355 355 355 355 355 355 355 355 355 355 355 356 356 356 356 359 359 359 359 359 359 360 360 360 360 360 360 360 360 360 360 360 360 360 360 360 360 361 361 362 362 362 362 362 362 362 362 362 362 362 362 362 362 362 362 362 362 362 362 362 362 362 362 362 362 362 362 363 363 363 363 363 363 363 363 363 363 363 363 363 363 364 364 365 365 365 365 365 365 365 365 365 365 368 368 369 369 369 370 370 370 370 371 371 371 371 372 372 372 372 373 373 373 373 374 374 375 375 376 376 376 376 376 376 376 376 376 376 376 376 377 377 378 378 378 378 378 378 378 378 378 378 379 379 381 381 381 381 381 381 381 381 382 382 382 382 383 383 383 383 383 383 383 383 383 383 383 383 383 383 383 383 385 385 385 385 385 385 385 385 385 385 385 385 389 389 389 389 389 389 389 389 391 391 391 391 391 391 391 391 391 391 391 391 392 392 392 392 392 392 392 392 392 392 394 394 394 394 394 394 394 394 394 394 394 394 394 394 395 395 395 395 395 395 395 395 401 401 401 401 401 402 402 403 403 404 404 404 404 404 404 404 404 404 404 404 404 404 404 404 404 404 404 404 404 408 408 408 408 410 410 410 410 410 410 410 410 411 411 411 411 412 412 413 413 413 413 415 415 415 415 415 415 417 417 417 417 417 417 418 418 419 419 419 420 420 420 420 420 420 420 420 421 421 422 422 422 422 422 422 423 423 423 423 424 424 425 425 425 425 425 425 426 426 427 427 427 427 428 428 429 429 429 429 430 430 430 430 431 431 431 431 431 431 431 431 431 431 431 431 432 432 432 432 433 433 433 433 433 433 433 433 433 433 433 433 433 433 433 433 433 433 433 433 433 433 433 433 433 433 433 433 433 433 434 434 434 434 434 434 434 434 434 434 434 434 434 434 434 434 435 435 436 436 436 436 438 438 438 438 438 438 439 439 439 440 440 440 440 440 440 440 440 440 440 440 440 441 441 441 441 441 441 442 442 442 442 442 442 442 442 442 442 442 442 442 442 443 443 443 443 443 443 443 443 444 444 446 446 446 446 446 446 447 447 448 448 448 448 449 449 449 449 449 449 449 449 449 449 449 449 449 449 449 449 449 449 449 449 450 450 450 450 450 450 450 450 451 451 451 451 452 452 452 452 452 452 452 452 452 452 452 452 452 452 452 452 452 452 452 452 453 453 456 456 457 457 462 462 463 463 463 463 463 463 463 463 465 465 465 465 465 465 465 465 465 465 465 465 466 466 468 468 468 468 469 469 470 470 470 470 470 470 472 472 472 472 472 472 472 472 472 472 472 472 472 472 472 472 474 474 474 474 475 475 475 475 475 475 475 475 476 476 478 478 478 478 479 479 480 480 481 481 481 481 481 481 481 481 482 482 482 482 482 482 482 482 482 482 482 482 483 483 484 484 484 484 484 484 484 484 488 488 488 488 488 488 490 490 490 490 490 490 490 490 490 490 491 491 491 491 491 491 491 491 491 491 491 491 491 491 491 491 491 491 491 491 491 491 491 491 493 493 493 493 493 493 493 493 497 497 497 497 497 497 498 498 498 498 499 499 499 499 500 500 500 500 500 500 500 500 501 501 502 502 504 504 504 504 504 504 505 505 505 505 506 506 506 506 507 507 507 507 507 507 507 507 507 507 509 509 509 509 509 509 510 510 510 510 510 510 512 512 512 512 512 512 513 513 513 513 514 514 514 514 514 514 514 514 516 516 518 518 519 519 520 520 520 520 520 520 520 520 520 520 520 520 520 520 520 520 520 520 520 520 520 520 520 520 520 520 520 520 521 521 521 521 522 522 522 522 522 522 523 523 523 523 523 523 523 523 523 523 524 524 525 525 526 526 527 527 527 527 528 528 529 529 530 530 531 531 531 531 532 532 533 533 535 535 536 536 536 536 536 536 537 537 538 538 539 539 539 539 539 539 539 539 539 539 539 539 540 540 541 541 541 541 541 541 543 546 546 548 548 550 550 552 552 552 552 552 552 552 552 553 553 553 553 554 554 557 557 557 557 559 559 559 559 559 559 559 559 559 559 561 561 561 561 561 562 562 562 562 562 562 562 562 562 562 562 562 562 562 562 562 563 564 564 564 564 564 564 567 567 567 567 568 568 568 568 569 569 569 569 569 569 569 569 569 569 569 569 569 569 570 570 570 570 571 571 571 571 571 571 571 571 571 571 571 571 572 572 575 575 575 575 575 575 577 577 577 577 577 577 577 577 577 577 577 577 577 577 578 578 578 578 578 578 578 578 578 578 578 578 578 578 579 580 580 580 580 580 580 580 580 580 580 580 580 580 580 580 580 581 581 581 581 581 581 581 581 581 584 584 585 585 586 586 587 587 587 587 588 588 588 588 591 591 592 592 593 593 593 593 594 594 594 594 594 594 594 594 594 594 594 594 596 596 596 596 596 596 597 597 597 597 597 597 599 599 600 600 601 601 601 601 601 601 603 603 603 603 603 603 607 607 607 607 607 607 607 607 607 607 607 607 609 609 609 609 609 609 609 609 610 610 610 610 610 610 610 610 611 611 613 618 618 619 619 619 619 619 619 619 619 619 619 626 626 628 628 628 628 628 628 628 628 628 628 628 628 629 629 633 633 633 633 635 635 635 635 635 635 637 637 638 638 638 638 638 638 638 638 639 640 640 641 641 641 641 642 642 643 643 644 644 646 646 648 648 649 649 649 649 649 649 649 649 649 649 649 649 650 650 651 651 651 651 651 651 651 651 651 651 651 651 651 651 651 651 652 652 654 654 654 654 655 655 656 656 656 656 656 656 656 656 657 657 658 658 658 658 658 658 658 658 659 659 659 659 662 662 662 662 664 664 664 664 664 664 664 664 665 665 665 665 665 665 666 666 667 667 667 667 667 667 667 667 667 667 667 667 668 668 668 668 668 668 668 668 675 675 680 680 681 681 681 681 681 681 681 681 683 683 684 684 688 688 689 689 690 690 690 690 690 690 690 690 690 690 694 694 695 696 696 696 696 696 696 697 697 698 698 699 699 699 699 699 699 699 699 700 700 700 700 700 700 706 706 706 706 706 706 706 706 706 706 706 706 706 706 706 706 708 708 708 708 708 708 709 709 709 709 709 709 709 709 715 715 715 715 715 715 716 716 716 716 720 720 722 722 722 722 722 722 723 724 724 724 724 725 725 725 725 725 725 725 725 725 725 725 725 728 728 729 729 730 730 730 730 736 736 736 736 736 736 737 738 738 738 738 738 738 738 738 738 738 738 738 738 738 739 739 739 739 741 741 743 743 745 745 746 746 749 751 751 752 752 753 754 754 754 754 755 755 755 756 756 766 766 766 766 766 766 768 768 770 770 777 777 777 777 780 780 780 780 780 780 782 782 783 783 785 785 786 786 786 786 787 787 787 787 787 787 787 787 793 793 793 793 793 793 793 793 793 793 795 795 795 795 795 795 795 795 796 796 796 796 796 796 796 796 796 796 796 796 803 803 809 809 810 810 811 811 812 812 812 812 817 817 817 823 823 825 825 825 825 826 826 827 827 827 827 827 827 837 837 837 837 837 837 837 837 837 843 843 853 853 853 853 853 853 853 853 857 857 867 867 867 867 867 867 867 867 869 874 874 880 880 882 882 883 883 883 883 897 914 914 924 924 924 924 924 924 940 940 954 954 1011\n"
     ]
    }
   ],
   "source": [
    "challenge_input = '0 57 71 87 87 87 97 128 129 131 137 144 158 186 199 215 216 218 218 224 225 234 273 273 286 296 305 321 343 344 347 355 360 362 383 404 431 433 434 440 442 449 452 472 491 491 520 520 539 559 562 569 571 577 578 580 607 628 649 651 656 664 667 668 690 706 715 725 738 738 777 786 787 793 793 795 796 812 825 853 867 874 880 882 883 914 924 924 924 940 954 1011'\n",
    "challenge_input = [int(s) for s in challenge_input.split()]\n",
    "print(' '.join(map(str, spectrum_convolution(challenge_input))))"
   ]
  },
  {
   "cell_type": "code",
   "execution_count": 93,
   "metadata": {},
   "outputs": [
    {
     "data": {
      "text/plain": [
       "[4,\n",
       " 57,\n",
       " 57,\n",
       " 61,\n",
       " 61,\n",
       " 61,\n",
       " 61,\n",
       " 65,\n",
       " 118,\n",
       " 118,\n",
       " 122,\n",
       " 122,\n",
       " 122,\n",
       " 179,\n",
       " 179,\n",
       " 183,\n",
       " 183,\n",
       " 236,\n",
       " 240,\n",
       " 244,\n",
       " 301]"
      ]
     },
     "execution_count": 93,
     "metadata": {},
     "output_type": "execute_result"
    }
   ],
   "source": [
    "# Quiz\n",
    "\n",
    "quiz_input = [int(s) for s in '0 57 118 179 236 240 301'.split()]\n",
    "spectrum_convolution(quiz_input)"
   ]
  },
  {
   "attachments": {},
   "cell_type": "markdown",
   "metadata": {},
   "source": [
    "## Code Challenge: Implement ConvolutionCyclopeptideSequencing.\n",
    "\n",
    "Input: An integer M, an integer N, and a collection of (possibly repeated) integers Spectrum.  \n",
    "Output: A cyclic peptide LeaderPeptide with amino acids taken only from the top M elements (and ties) of the convolution of Spectrum that fall between 57 and 200, and where the size of Leaderboard is restricted to the top N (and ties)."
   ]
  },
  {
   "cell_type": "code",
   "execution_count": 90,
   "metadata": {},
   "outputs": [],
   "source": [
    "sample_m = 20\n",
    "sample_n = 60\n",
    "sample_spectrum = '57 57 71 99 129 137 170 186 194 208 228 265 285 299 307 323 356 364 394 422 493'\n",
    "sample_spectrum = [int(s) for s in sample_spectrum.split()]\n",
    "sample_output = '99-71-137-57-72-57'\n",
    "\n",
    "# assert conv_cyclo_spec(sample_m, sample_n, sample_spectrum) == sample_output\n"
   ]
  }
 ],
 "metadata": {
  "kernelspec": {
   "display_name": "base",
   "language": "python",
   "name": "python3"
  },
  "language_info": {
   "codemirror_mode": {
    "name": "ipython",
    "version": 3
   },
   "file_extension": ".py",
   "mimetype": "text/x-python",
   "name": "python",
   "nbconvert_exporter": "python",
   "pygments_lexer": "ipython3",
   "version": "3.9.12"
  },
  "orig_nbformat": 4
 },
 "nbformat": 4,
 "nbformat_minor": 2
}
